{
  "nbformat": 4,
  "nbformat_minor": 0,
  "metadata": {
    "accelerator": "GPU",
    "colab": {
      "name": "Johnny_Nuñez.ipynb",
      "provenance": [],
      "collapsed_sections": [
        "smeqoYJ8aPtE",
        "_mPAXtQ9bb3N",
        "UF15ZTKMVoog"
      ],
      "toc_visible": true
    },
    "kernelspec": {
      "display_name": "Python 3",
      "name": "python3"
    }
  },
  "cells": [
    {
      "cell_type": "markdown",
      "metadata": {
        "id": "EcmMqMJt9Q0A"
      },
      "source": [
        "Hackathon: HACK THAT STARTUP  \n",
        "Authon: Johnny Núñez Cano"
      ]
    },
    {
      "cell_type": "code",
      "metadata": {
        "colab": {
          "base_uri": "https://localhost:8080/"
        },
        "id": "MQU4MADO9f9h",
        "outputId": "6edb9eb5-ec31-4fba-cdb1-e95b158df1f2"
      },
      "source": [
        "from google.colab import drive\n",
        "drive.mount('/content/drive')"
      ],
      "execution_count": null,
      "outputs": [
        {
          "output_type": "stream",
          "text": [
            "Mounted at /content/drive\n"
          ],
          "name": "stdout"
        }
      ]
    },
    {
      "cell_type": "code",
      "metadata": {
        "id": "BSiOXF2x9-XV"
      },
      "source": [
        "!cd /content/drive/MyDrive/Hackathon"
      ],
      "execution_count": null,
      "outputs": []
    },
    {
      "cell_type": "markdown",
      "metadata": {
        "id": "wEQAYt9K-UST"
      },
      "source": [
        " # Challenge 1:"
      ]
    },
    {
      "cell_type": "code",
      "metadata": {
        "id": "aV3ZzxXk-s9d"
      },
      "source": [
        "import pandas as pd\n",
        "import numpy as np\n",
        "import seaborn as sns\n",
        "import matplotlib.pyplot as plt\n",
        "import zipfile\n",
        "import cv2\n",
        "import tensorflow as tf"
      ],
      "execution_count": null,
      "outputs": []
    },
    {
      "cell_type": "code",
      "metadata": {
        "id": "Cared5GZ-Goz"
      },
      "source": [
        "data = pd.read_csv('/content/drive/MyDrive/Hackathon/Marketing.csv', encoding = 'unicode_escape')"
      ],
      "execution_count": null,
      "outputs": []
    },
    {
      "cell_type": "code",
      "metadata": {
        "colab": {
          "base_uri": "https://localhost:8080/",
          "height": 419
        },
        "id": "njU5bD9rCXrp",
        "outputId": "b35134d3-3119-4b4d-d3cf-24e4166345f8"
      },
      "source": [
        "data"
      ],
      "execution_count": null,
      "outputs": [
        {
          "output_type": "execute_result",
          "data": {
            "text/html": [
              "<div>\n",
              "<style scoped>\n",
              "    .dataframe tbody tr th:only-of-type {\n",
              "        vertical-align: middle;\n",
              "    }\n",
              "\n",
              "    .dataframe tbody tr th {\n",
              "        vertical-align: top;\n",
              "    }\n",
              "\n",
              "    .dataframe thead th {\n",
              "        text-align: right;\n",
              "    }\n",
              "</style>\n",
              "<table border=\"1\" class=\"dataframe\">\n",
              "  <thead>\n",
              "    <tr style=\"text-align: right;\">\n",
              "      <th></th>\n",
              "      <th>TV</th>\n",
              "      <th>Radio</th>\n",
              "      <th>Periodico</th>\n",
              "      <th>Redes Sociales</th>\n",
              "      <th>Email</th>\n",
              "      <th>Ingresos</th>\n",
              "    </tr>\n",
              "  </thead>\n",
              "  <tbody>\n",
              "    <tr>\n",
              "      <th>0</th>\n",
              "      <td>230.1</td>\n",
              "      <td>37.8</td>\n",
              "      <td>69.2</td>\n",
              "      <td>151.81</td>\n",
              "      <td>25.85</td>\n",
              "      <td>22.1</td>\n",
              "    </tr>\n",
              "    <tr>\n",
              "      <th>1</th>\n",
              "      <td>44.5</td>\n",
              "      <td>39.3</td>\n",
              "      <td>45.1</td>\n",
              "      <td>47.49</td>\n",
              "      <td>55.98</td>\n",
              "      <td>10.4</td>\n",
              "    </tr>\n",
              "    <tr>\n",
              "      <th>2</th>\n",
              "      <td>17.2</td>\n",
              "      <td>45.9</td>\n",
              "      <td>69.3</td>\n",
              "      <td>35.76</td>\n",
              "      <td>133.43</td>\n",
              "      <td>9.3</td>\n",
              "    </tr>\n",
              "    <tr>\n",
              "      <th>3</th>\n",
              "      <td>151.5</td>\n",
              "      <td>41.3</td>\n",
              "      <td>58.5</td>\n",
              "      <td>109.25</td>\n",
              "      <td>33.17</td>\n",
              "      <td>18.5</td>\n",
              "    </tr>\n",
              "    <tr>\n",
              "      <th>4</th>\n",
              "      <td>180.8</td>\n",
              "      <td>10.8</td>\n",
              "      <td>58.4</td>\n",
              "      <td>108.57</td>\n",
              "      <td>8.71</td>\n",
              "      <td>12.9</td>\n",
              "    </tr>\n",
              "    <tr>\n",
              "      <th>...</th>\n",
              "      <td>...</td>\n",
              "      <td>...</td>\n",
              "      <td>...</td>\n",
              "      <td>...</td>\n",
              "      <td>...</td>\n",
              "      <td>...</td>\n",
              "    </tr>\n",
              "    <tr>\n",
              "      <th>195</th>\n",
              "      <td>38.2</td>\n",
              "      <td>3.7</td>\n",
              "      <td>13.8</td>\n",
              "      <td>23.74</td>\n",
              "      <td>3.23</td>\n",
              "      <td>7.6</td>\n",
              "    </tr>\n",
              "    <tr>\n",
              "      <th>196</th>\n",
              "      <td>94.2</td>\n",
              "      <td>4.9</td>\n",
              "      <td>8.1</td>\n",
              "      <td>56.16</td>\n",
              "      <td>1.06</td>\n",
              "      <td>9.7</td>\n",
              "    </tr>\n",
              "    <tr>\n",
              "      <th>197</th>\n",
              "      <td>177.0</td>\n",
              "      <td>9.3</td>\n",
              "      <td>6.4</td>\n",
              "      <td>105.57</td>\n",
              "      <td>0.85</td>\n",
              "      <td>12.8</td>\n",
              "    </tr>\n",
              "    <tr>\n",
              "      <th>198</th>\n",
              "      <td>283.6</td>\n",
              "      <td>42.0</td>\n",
              "      <td>66.2</td>\n",
              "      <td>184.51</td>\n",
              "      <td>22.60</td>\n",
              "      <td>25.5</td>\n",
              "    </tr>\n",
              "    <tr>\n",
              "      <th>199</th>\n",
              "      <td>232.1</td>\n",
              "      <td>8.6</td>\n",
              "      <td>8.7</td>\n",
              "      <td>136.40</td>\n",
              "      <td>0.82</td>\n",
              "      <td>13.4</td>\n",
              "    </tr>\n",
              "  </tbody>\n",
              "</table>\n",
              "<p>200 rows × 6 columns</p>\n",
              "</div>"
            ],
            "text/plain": [
              "        TV  Radio  Periodico  Redes Sociales   Email  Ingresos\n",
              "0    230.1   37.8       69.2          151.81   25.85      22.1\n",
              "1     44.5   39.3       45.1           47.49   55.98      10.4\n",
              "2     17.2   45.9       69.3           35.76  133.43       9.3\n",
              "3    151.5   41.3       58.5          109.25   33.17      18.5\n",
              "4    180.8   10.8       58.4          108.57    8.71      12.9\n",
              "..     ...    ...        ...             ...     ...       ...\n",
              "195   38.2    3.7       13.8           23.74    3.23       7.6\n",
              "196   94.2    4.9        8.1           56.16    1.06       9.7\n",
              "197  177.0    9.3        6.4          105.57    0.85      12.8\n",
              "198  283.6   42.0       66.2          184.51   22.60      25.5\n",
              "199  232.1    8.6        8.7          136.40    0.82      13.4\n",
              "\n",
              "[200 rows x 6 columns]"
            ]
          },
          "metadata": {
            "tags": []
          },
          "execution_count": 5
        }
      ]
    },
    {
      "cell_type": "markdown",
      "metadata": {
        "id": "RtLsew1s_5Zi"
      },
      "source": [
        "Previsualización de los datos"
      ]
    },
    {
      "cell_type": "code",
      "metadata": {
        "colab": {
          "base_uri": "https://localhost:8080/",
          "height": 297
        },
        "id": "seb1YecX_rkV",
        "outputId": "38d1bea1-97bf-46b5-d171-4bf82f5d61ef"
      },
      "source": [
        "data.describe()"
      ],
      "execution_count": null,
      "outputs": [
        {
          "output_type": "execute_result",
          "data": {
            "text/html": [
              "<div>\n",
              "<style scoped>\n",
              "    .dataframe tbody tr th:only-of-type {\n",
              "        vertical-align: middle;\n",
              "    }\n",
              "\n",
              "    .dataframe tbody tr th {\n",
              "        vertical-align: top;\n",
              "    }\n",
              "\n",
              "    .dataframe thead th {\n",
              "        text-align: right;\n",
              "    }\n",
              "</style>\n",
              "<table border=\"1\" class=\"dataframe\">\n",
              "  <thead>\n",
              "    <tr style=\"text-align: right;\">\n",
              "      <th></th>\n",
              "      <th>TV</th>\n",
              "      <th>Radio</th>\n",
              "      <th>Periodico</th>\n",
              "      <th>Redes Sociales</th>\n",
              "      <th>Email</th>\n",
              "      <th>Ingresos</th>\n",
              "    </tr>\n",
              "  </thead>\n",
              "  <tbody>\n",
              "    <tr>\n",
              "      <th>count</th>\n",
              "      <td>200.000000</td>\n",
              "      <td>200.000000</td>\n",
              "      <td>200.000000</td>\n",
              "      <td>200.000000</td>\n",
              "      <td>200.000000</td>\n",
              "      <td>200.000000</td>\n",
              "    </tr>\n",
              "    <tr>\n",
              "      <th>mean</th>\n",
              "      <td>147.042500</td>\n",
              "      <td>23.264000</td>\n",
              "      <td>30.554000</td>\n",
              "      <td>96.506750</td>\n",
              "      <td>17.259350</td>\n",
              "      <td>14.022500</td>\n",
              "    </tr>\n",
              "    <tr>\n",
              "      <th>std</th>\n",
              "      <td>85.854236</td>\n",
              "      <td>14.846809</td>\n",
              "      <td>21.778621</td>\n",
              "      <td>49.824942</td>\n",
              "      <td>26.584668</td>\n",
              "      <td>5.217457</td>\n",
              "    </tr>\n",
              "    <tr>\n",
              "      <th>min</th>\n",
              "      <td>0.700000</td>\n",
              "      <td>0.000000</td>\n",
              "      <td>0.300000</td>\n",
              "      <td>6.060000</td>\n",
              "      <td>0.000000</td>\n",
              "      <td>1.600000</td>\n",
              "    </tr>\n",
              "    <tr>\n",
              "      <th>25%</th>\n",
              "      <td>74.375000</td>\n",
              "      <td>9.975000</td>\n",
              "      <td>12.750000</td>\n",
              "      <td>51.357500</td>\n",
              "      <td>2.522500</td>\n",
              "      <td>10.375000</td>\n",
              "    </tr>\n",
              "    <tr>\n",
              "      <th>50%</th>\n",
              "      <td>149.750000</td>\n",
              "      <td>22.900000</td>\n",
              "      <td>25.750000</td>\n",
              "      <td>99.480000</td>\n",
              "      <td>8.160000</td>\n",
              "      <td>12.900000</td>\n",
              "    </tr>\n",
              "    <tr>\n",
              "      <th>75%</th>\n",
              "      <td>218.825000</td>\n",
              "      <td>36.525000</td>\n",
              "      <td>45.100000</td>\n",
              "      <td>137.872500</td>\n",
              "      <td>20.055000</td>\n",
              "      <td>17.400000</td>\n",
              "    </tr>\n",
              "    <tr>\n",
              "      <th>max</th>\n",
              "      <td>296.400000</td>\n",
              "      <td>49.600000</td>\n",
              "      <td>114.000000</td>\n",
              "      <td>188.530000</td>\n",
              "      <td>170.650000</td>\n",
              "      <td>27.000000</td>\n",
              "    </tr>\n",
              "  </tbody>\n",
              "</table>\n",
              "</div>"
            ],
            "text/plain": [
              "               TV       Radio  ...       Email    Ingresos\n",
              "count  200.000000  200.000000  ...  200.000000  200.000000\n",
              "mean   147.042500   23.264000  ...   17.259350   14.022500\n",
              "std     85.854236   14.846809  ...   26.584668    5.217457\n",
              "min      0.700000    0.000000  ...    0.000000    1.600000\n",
              "25%     74.375000    9.975000  ...    2.522500   10.375000\n",
              "50%    149.750000   22.900000  ...    8.160000   12.900000\n",
              "75%    218.825000   36.525000  ...   20.055000   17.400000\n",
              "max    296.400000   49.600000  ...  170.650000   27.000000\n",
              "\n",
              "[8 rows x 6 columns]"
            ]
          },
          "metadata": {
            "tags": []
          },
          "execution_count": 6
        }
      ]
    },
    {
      "cell_type": "code",
      "metadata": {
        "colab": {
          "base_uri": "https://localhost:8080/"
        },
        "id": "0TXuA6hP-sos",
        "outputId": "8eb4c588-3db2-4064-e6f5-5c56033796bb"
      },
      "source": [
        "data.dtypes"
      ],
      "execution_count": null,
      "outputs": [
        {
          "output_type": "execute_result",
          "data": {
            "text/plain": [
              "TV                float64\n",
              "Radio             float64\n",
              "Periodico         float64\n",
              "Redes Sociales    float64\n",
              "Email             float64\n",
              "Ingresos          float64\n",
              "dtype: object"
            ]
          },
          "metadata": {
            "tags": []
          },
          "execution_count": 7
        }
      ]
    },
    {
      "cell_type": "markdown",
      "metadata": {
        "id": "XklHwYlx_D5n"
      },
      "source": [
        "# Valores Unicos del Dataset"
      ]
    },
    {
      "cell_type": "code",
      "metadata": {
        "colab": {
          "base_uri": "https://localhost:8080/"
        },
        "id": "MXIxHiUd_Alk",
        "outputId": "709abca3-ff15-4b7f-c185-79ca9c7543fa"
      },
      "source": [
        "data.nunique()"
      ],
      "execution_count": null,
      "outputs": [
        {
          "output_type": "execute_result",
          "data": {
            "text/plain": [
              "TV                190\n",
              "Radio             167\n",
              "Periodico         172\n",
              "Redes Sociales    194\n",
              "Email             189\n",
              "Ingresos          121\n",
              "dtype: int64"
            ]
          },
          "metadata": {
            "tags": []
          },
          "execution_count": 8
        }
      ]
    },
    {
      "cell_type": "code",
      "metadata": {
        "colab": {
          "base_uri": "https://localhost:8080/",
          "height": 333
        },
        "id": "LNPU-vW_ASM-",
        "outputId": "4c3309ea-8f86-409f-fdfd-cf8657a89a79"
      },
      "source": [
        "sns.distplot(data[\"TV\"])\n",
        "plt.show()"
      ],
      "execution_count": null,
      "outputs": [
        {
          "output_type": "stream",
          "text": [
            "/usr/local/lib/python3.6/dist-packages/seaborn/distributions.py:2557: FutureWarning: `distplot` is a deprecated function and will be removed in a future version. Please adapt your code to use either `displot` (a figure-level function with similar flexibility) or `histplot` (an axes-level function for histograms).\n",
            "  warnings.warn(msg, FutureWarning)\n"
          ],
          "name": "stderr"
        },
        {
          "output_type": "display_data",
          "data": {
            "image/png": "[encoded data removed]",
            "text/plain": [
              "<Figure size 432x288 with 1 Axes>"
            ]
          },
          "metadata": {
            "tags": [],
            "needs_background": "light"
          }
        }
      ]
    },
    {
      "cell_type": "code",
      "metadata": {
        "colab": {
          "base_uri": "https://localhost:8080/",
          "height": 333
        },
        "id": "uBMy2H1ZAV1I",
        "outputId": "51fd0ee7-6466-4c81-83dd-fd614ff292f6"
      },
      "source": [
        "sns.distplot(data[\"Radio\"])\n",
        "plt.show()"
      ],
      "execution_count": null,
      "outputs": [
        {
          "output_type": "stream",
          "text": [
            "/usr/local/lib/python3.6/dist-packages/seaborn/distributions.py:2557: FutureWarning: `distplot` is a deprecated function and will be removed in a future version. Please adapt your code to use either `displot` (a figure-level function with similar flexibility) or `histplot` (an axes-level function for histograms).\n",
            "  warnings.warn(msg, FutureWarning)\n"
          ],
          "name": "stderr"
        },
        {
          "output_type": "display_data",
          "data": {
            "image/png": "[encoded data removed]",
            "text/plain": [
              "<Figure size 432x288 with 1 Axes>"
            ]
          },
          "metadata": {
            "tags": [],
            "needs_background": "light"
          }
        }
      ]
    },
    {
      "cell_type": "code",
      "metadata": {
        "colab": {
          "base_uri": "https://localhost:8080/",
          "height": 333
        },
        "id": "a-0LfDeRAbLB",
        "outputId": "18d13490-3d62-4211-a260-18665944b3f4"
      },
      "source": [
        "sns.distplot(data[\"Periodico\"])\n",
        "plt.show()"
      ],
      "execution_count": null,
      "outputs": [
        {
          "output_type": "stream",
          "text": [
            "/usr/local/lib/python3.6/dist-packages/seaborn/distributions.py:2557: FutureWarning: `distplot` is a deprecated function and will be removed in a future version. Please adapt your code to use either `displot` (a figure-level function with similar flexibility) or `histplot` (an axes-level function for histograms).\n",
            "  warnings.warn(msg, FutureWarning)\n"
          ],
          "name": "stderr"
        },
        {
          "output_type": "display_data",
          "data": {
            "image/png": "[encoded data removed]",
            "text/plain": [
              "<Figure size 432x288 with 1 Axes>"
            ]
          },
          "metadata": {
            "tags": [],
            "needs_background": "light"
          }
        }
      ]
    },
    {
      "cell_type": "code",
      "metadata": {
        "colab": {
          "base_uri": "https://localhost:8080/",
          "height": 333
        },
        "id": "y_QesUp2Aymi",
        "outputId": "2e783721-d5fc-4b8c-dcb3-2da7a2b52248"
      },
      "source": [
        "sns.distplot(data[\"Ingresos\"])\n",
        "plt.show()"
      ],
      "execution_count": null,
      "outputs": [
        {
          "output_type": "stream",
          "text": [
            "/usr/local/lib/python3.6/dist-packages/seaborn/distributions.py:2557: FutureWarning: `distplot` is a deprecated function and will be removed in a future version. Please adapt your code to use either `displot` (a figure-level function with similar flexibility) or `histplot` (an axes-level function for histograms).\n",
            "  warnings.warn(msg, FutureWarning)\n"
          ],
          "name": "stderr"
        },
        {
          "output_type": "display_data",
          "data": {
            "image/png": "[encoded data removed]",
            "text/plain": [
              "<Figure size 432x288 with 1 Axes>"
            ]
          },
          "metadata": {
            "tags": [],
            "needs_background": "light"
          }
        }
      ]
    },
    {
      "cell_type": "code",
      "metadata": {
        "colab": {
          "base_uri": "https://localhost:8080/",
          "height": 661
        },
        "id": "nB-rnXYGAgQR",
        "outputId": "efd9cb1f-dcfc-4b50-9e9a-67dbe8f7853e"
      },
      "source": [
        "fig = plt.figure(figsize = (20,10))\n",
        "ax = fig.gca()\n",
        "data.hist(ax = ax)\n",
        "plt.show()"
      ],
      "execution_count": null,
      "outputs": [
        {
          "output_type": "stream",
          "text": [
            "/usr/local/lib/python3.6/dist-packages/ipykernel_launcher.py:3: UserWarning: To output multiple subplots, the figure containing the passed axes is being cleared\n",
            "  This is separate from the ipykernel package so we can avoid doing imports until\n"
          ],
          "name": "stderr"
        },
        {
          "output_type": "display_data",
          "data": {
            "image/png": "[encoded data removed]",
            "text/plain": [
              "<Figure size 1440x720 with 6 Axes>"
            ]
          },
          "metadata": {
            "tags": [],
            "needs_background": "light"
          }
        }
      ]
    },
    {
      "cell_type": "code",
      "metadata": {
        "colab": {
          "base_uri": "https://localhost:8080/",
          "height": 235
        },
        "id": "6VKxeZ8P_BEf",
        "outputId": "aa56d681-1775-4b4d-f200-331619c5eecd"
      },
      "source": [
        "data.corr()"
      ],
      "execution_count": null,
      "outputs": [
        {
          "output_type": "execute_result",
          "data": {
            "text/html": [
              "<div>\n",
              "<style scoped>\n",
              "    .dataframe tbody tr th:only-of-type {\n",
              "        vertical-align: middle;\n",
              "    }\n",
              "\n",
              "    .dataframe tbody tr th {\n",
              "        vertical-align: top;\n",
              "    }\n",
              "\n",
              "    .dataframe thead th {\n",
              "        text-align: right;\n",
              "    }\n",
              "</style>\n",
              "<table border=\"1\" class=\"dataframe\">\n",
              "  <thead>\n",
              "    <tr style=\"text-align: right;\">\n",
              "      <th></th>\n",
              "      <th>TV</th>\n",
              "      <th>Radio</th>\n",
              "      <th>Periodico</th>\n",
              "      <th>Redes Sociales</th>\n",
              "      <th>Email</th>\n",
              "      <th>Ingresos</th>\n",
              "    </tr>\n",
              "  </thead>\n",
              "  <tbody>\n",
              "    <tr>\n",
              "      <th>TV</th>\n",
              "      <td>1.000000</td>\n",
              "      <td>0.054809</td>\n",
              "      <td>0.056648</td>\n",
              "      <td>0.985685</td>\n",
              "      <td>-0.414541</td>\n",
              "      <td>0.782224</td>\n",
              "    </tr>\n",
              "    <tr>\n",
              "      <th>Radio</th>\n",
              "      <td>0.054809</td>\n",
              "      <td>1.000000</td>\n",
              "      <td>0.354104</td>\n",
              "      <td>0.222370</td>\n",
              "      <td>0.471470</td>\n",
              "      <td>0.576223</td>\n",
              "    </tr>\n",
              "    <tr>\n",
              "      <th>Periodico</th>\n",
              "      <td>0.056648</td>\n",
              "      <td>0.354104</td>\n",
              "      <td>1.000000</td>\n",
              "      <td>0.115111</td>\n",
              "      <td>0.615725</td>\n",
              "      <td>0.228299</td>\n",
              "    </tr>\n",
              "    <tr>\n",
              "      <th>Redes Sociales</th>\n",
              "      <td>0.985685</td>\n",
              "      <td>0.222370</td>\n",
              "      <td>0.115111</td>\n",
              "      <td>1.000000</td>\n",
              "      <td>-0.325158</td>\n",
              "      <td>0.861085</td>\n",
              "    </tr>\n",
              "    <tr>\n",
              "      <th>Email</th>\n",
              "      <td>-0.414541</td>\n",
              "      <td>0.471470</td>\n",
              "      <td>0.615725</td>\n",
              "      <td>-0.325158</td>\n",
              "      <td>1.000000</td>\n",
              "      <td>-0.161965</td>\n",
              "    </tr>\n",
              "    <tr>\n",
              "      <th>Ingresos</th>\n",
              "      <td>0.782224</td>\n",
              "      <td>0.576223</td>\n",
              "      <td>0.228299</td>\n",
              "      <td>0.861085</td>\n",
              "      <td>-0.161965</td>\n",
              "      <td>1.000000</td>\n",
              "    </tr>\n",
              "  </tbody>\n",
              "</table>\n",
              "</div>"
            ],
            "text/plain": [
              "                      TV     Radio  ...     Email  Ingresos\n",
              "TV              1.000000  0.054809  ... -0.414541  0.782224\n",
              "Radio           0.054809  1.000000  ...  0.471470  0.576223\n",
              "Periodico       0.056648  0.354104  ...  0.615725  0.228299\n",
              "Redes Sociales  0.985685  0.222370  ... -0.325158  0.861085\n",
              "Email          -0.414541  0.471470  ...  1.000000 -0.161965\n",
              "Ingresos        0.782224  0.576223  ... -0.161965  1.000000\n",
              "\n",
              "[6 rows x 6 columns]"
            ]
          },
          "metadata": {
            "tags": []
          },
          "execution_count": 14
        }
      ]
    },
    {
      "cell_type": "code",
      "metadata": {
        "id": "liRI-yT7Dnz3"
      },
      "source": [
        "data = data.rename(columns={'Redes Sociales': 'RedesSociales'})"
      ],
      "execution_count": null,
      "outputs": []
    },
    {
      "cell_type": "code",
      "metadata": {
        "colab": {
          "base_uri": "https://localhost:8080/",
          "height": 626
        },
        "id": "8zGOPrUXAJA5",
        "outputId": "5fa503f6-538b-473b-9223-14ce32e03d35"
      },
      "source": [
        "plt.figure(figsize=(20,10))\n",
        "plt.title('Correlacion',fontsize=15)\n",
        "sns.heatmap(data.corr(),annot=True,fmt='.2f',cmap='RdYlGn')"
      ],
      "execution_count": null,
      "outputs": [
        {
          "output_type": "execute_result",
          "data": {
            "text/plain": [
              "<matplotlib.axes._subplots.AxesSubplot at 0x7fd690baea20>"
            ]
          },
          "metadata": {
            "tags": []
          },
          "execution_count": 16
        },
        {
          "output_type": "display_data",
          "data": {
            "image/png": "[encoded data removed]",
            "text/plain": [
              "<Figure size 1440x720 with 2 Axes>"
            ]
          },
          "metadata": {
            "tags": [],
            "needs_background": "light"
          }
        }
      ]
    },
    {
      "cell_type": "code",
      "metadata": {
        "colab": {
          "base_uri": "https://localhost:8080/"
        },
        "id": "P6QRZ3MjWe_a",
        "outputId": "e63bfa1a-a5c4-4fe1-892d-4ee92ff6acc3"
      },
      "source": [
        "import statsmodels.formula.api as smf\n",
        "from statsmodels.stats.outliers_influence import variance_inflation_factor "
      ],
      "execution_count": null,
      "outputs": [
        {
          "output_type": "stream",
          "text": [
            "/usr/local/lib/python3.6/dist-packages/statsmodels/tools/_testing.py:19: FutureWarning: pandas.util.testing is deprecated. Use the functions in the public API at pandas.testing instead.\n",
            "  import pandas.util.testing as tm\n"
          ],
          "name": "stderr"
        }
      ]
    },
    {
      "cell_type": "code",
      "metadata": {
        "id": "tjQFnREeacvb"
      },
      "source": [
        "feature_cols = [\"TV\", \"Radio\", \"Periodico\", \"RedesSociales\", \"Email\"]\n",
        "X = data[feature_cols]\n",
        "Y = data[\"Ingresos\"]"
      ],
      "execution_count": null,
      "outputs": []
    },
    {
      "cell_type": "code",
      "metadata": {
        "colab": {
          "base_uri": "https://localhost:8080/"
        },
        "id": "HErKWp6wZ0vZ",
        "outputId": "547181bd-bcaa-4b99-9ccf-f0b9eefe9ad0"
      },
      "source": [
        "vif_data = pd.DataFrame() \n",
        "vif_data[\"feature\"] = X.columns \n",
        "vif_data[\"VIF\"] = [variance_inflation_factor(X.values, i) \n",
        "                          for i in range(len(X.columns))] \n",
        "print(vif_data)"
      ],
      "execution_count": null,
      "outputs": [
        {
          "output_type": "stream",
          "text": [
            "         feature           VIF\n",
            "0             TV  1.308469e+09\n",
            "1          Radio  3.436625e+07\n",
            "2      Periodico  5.846740e+00\n",
            "3  RedesSociales  1.658288e+09\n",
            "4          Email  4.165240e+00\n"
          ],
          "name": "stdout"
        }
      ]
    },
    {
      "cell_type": "markdown",
      "metadata": {
        "id": "smeqoYJ8aPtE"
      },
      "source": [
        "# Como podemos ver tanto en el plot de correlacion como en el resultado de vif, Periodico debe ir fuera del modelo e email prácticamente también. Podemos concluir que podemos aumentar el gasto en las TV, Redes Sociales y disminuir el gasto en en el Periodio e emails.\n",
        "VIF = 1 : Las variables no están correlacionadas  \n",
        "VIF < 5 : Las variables tienen una correlación moderada y se pueden quedar en el modelo  \n",
        "VIF >5 : Las variables están altamente correlacionadas y deben desaparecer del modelo.  "
      ]
    },
    {
      "cell_type": "code",
      "metadata": {
        "colab": {
          "base_uri": "https://localhost:8080/"
        },
        "id": "v1t_9IDNXzzP",
        "outputId": "f20d7e48-5d91-4998-e1a7-8da39c6ee4e2"
      },
      "source": [
        "plt.figure(figsize=(20,10))\n",
        "plt.title('Correlacion',fontsize=15)\n",
        "sns.heatmap(data[[\"TV\", \"Radio\",\"RedesSociales\"]].corr(),annot=True,fmt='.2f',cmap='RdYlGn')"
      ],
      "execution_count": null,
      "outputs": [
        {
          "output_type": "execute_result",
          "data": {
            "text/plain": [
              "<matplotlib.axes._subplots.AxesSubplot at 0x7fd682b6b978>"
            ]
          },
          "metadata": {
            "tags": []
          },
          "execution_count": 20
        },
        {
          "output_type": "display_data",
          "data": {
            "image/png": "[encoded data removed]",
            "text/plain": [
              "<Figure size 1440x720 with 2 Axes>"
            ]
          },
          "metadata": {
            "tags": [],
            "needs_background": "light"
          }
        }
      ]
    },
    {
      "cell_type": "markdown",
      "metadata": {
        "id": "_mPAXtQ9bb3N"
      },
      "source": [
        "# Challenge 2:"
      ]
    },
    {
      "cell_type": "code",
      "metadata": {
        "id": "hX1jBjxVbnrX"
      },
      "source": [
        "feature_cols = [\"TV\", \"Radio\", \"Periodico\", \"RedesSociales\", \"Email\"]\n",
        "X = data[feature_cols]\n",
        "Y = data[\"Ingresos\"]"
      ],
      "execution_count": null,
      "outputs": []
    },
    {
      "cell_type": "markdown",
      "metadata": {
        "id": "UF15ZTKMVoog"
      },
      "source": [
        " # Hacemos un feature Selection recursive con RandomForestRegressor"
      ]
    },
    {
      "cell_type": "code",
      "metadata": {
        "id": "_oLQXlg9ARuA"
      },
      "source": [
        "from sklearn.feature_selection import RFE\n",
        "from sklearn.svm import SVR\n",
        "import pandas as pd\n",
        "import numpy as np"
      ],
      "execution_count": null,
      "outputs": []
    },
    {
      "cell_type": "code",
      "metadata": {
        "id": "QuMnaq4-DLMf"
      },
      "source": [
        "estimator = SVR(kernel=\"linear\")\n",
        "selector = RFE(estimator, n_features_to_select=3, step=1)\n",
        "selector = selector.fit(X,Y)"
      ],
      "execution_count": null,
      "outputs": []
    },
    {
      "cell_type": "code",
      "metadata": {
        "colab": {
          "base_uri": "https://localhost:8080/"
        },
        "id": "TcEaDm1lGdze",
        "outputId": "c6e82f12-5dbb-485e-b492-b4517990e39f"
      },
      "source": [
        "selector.ranking_"
      ],
      "execution_count": null,
      "outputs": [
        {
          "output_type": "execute_result",
          "data": {
            "text/plain": [
              "array([3, 1, 2, 1, 1])"
            ]
          },
          "metadata": {
            "tags": []
          },
          "execution_count": 24
        }
      ]
    },
    {
      "cell_type": "code",
      "metadata": {
        "id": "gM8yCvMWKkdC"
      },
      "source": [
        "X_pred = X[[\"Email\", \"Radio\",\"RedesSociales\"]]"
      ],
      "execution_count": null,
      "outputs": []
    },
    {
      "cell_type": "code",
      "metadata": {
        "colab": {
          "base_uri": "https://localhost:8080/"
        },
        "id": "uLI4iBg9K_RZ",
        "outputId": "71253ed1-da81-41d1-99e1-911cd9326374"
      },
      "source": [
        "from sklearn.linear_model import LinearRegression\n",
        "lm = LinearRegression()\n",
        "lm.fit(X_pred, Y)"
      ],
      "execution_count": null,
      "outputs": [
        {
          "output_type": "execute_result",
          "data": {
            "text/plain": [
              "LinearRegression(copy_X=True, fit_intercept=True, n_jobs=None, normalize=False)"
            ]
          },
          "metadata": {
            "tags": []
          },
          "execution_count": 26
        }
      ]
    },
    {
      "cell_type": "code",
      "metadata": {
        "colab": {
          "base_uri": "https://localhost:8080/"
        },
        "id": "tTWMSEWGLAMo",
        "outputId": "8e05c539-f91b-4d2e-ec99-4de553e8e65a"
      },
      "source": [
        "lm.intercept_"
      ],
      "execution_count": null,
      "outputs": [
        {
          "output_type": "execute_result",
          "data": {
            "text/plain": [
              "3.4955115197041913"
            ]
          },
          "metadata": {
            "tags": []
          },
          "execution_count": 27
        }
      ]
    },
    {
      "cell_type": "code",
      "metadata": {
        "colab": {
          "base_uri": "https://localhost:8080/"
        },
        "id": "Lj8chvctLTk6",
        "outputId": "6d4756b6-429f-4fc8-f238-5717181a831c"
      },
      "source": [
        "lm.coef_"
      ],
      "execution_count": null,
      "outputs": [
        {
          "output_type": "execute_result",
          "data": {
            "text/plain": [
              "array([-0.03435002,  0.17742561,  0.07245315])"
            ]
          },
          "metadata": {
            "tags": []
          },
          "execution_count": 28
        }
      ]
    },
    {
      "cell_type": "code",
      "metadata": {
        "colab": {
          "base_uri": "https://localhost:8080/"
        },
        "id": "LspFT2YZLBxC",
        "outputId": "89be9602-a74b-442a-f55c-51dd294bdb18"
      },
      "source": [
        "lm.score(X_pred, Y)"
      ],
      "execution_count": null,
      "outputs": [
        {
          "output_type": "execute_result",
          "data": {
            "text/plain": [
              "0.9150597882249716"
            ]
          },
          "metadata": {
            "tags": []
          },
          "execution_count": 29
        }
      ]
    },
    {
      "cell_type": "code",
      "metadata": {
        "id": "wQmE99SMUoYP"
      },
      "source": [
        "feature_cols = [\"RedesSociales\", \"Email\"]\n",
        "X = data[feature_cols]\n",
        "Y = data[\"Ingresos\"]"
      ],
      "execution_count": null,
      "outputs": []
    },
    {
      "cell_type": "code",
      "metadata": {
        "colab": {
          "base_uri": "https://localhost:8080/"
        },
        "id": "cUSjPVmXUo2y",
        "outputId": "15f59430-5256-46ea-9bfa-abece55746e4"
      },
      "source": [
        "from sklearn.linear_model import LinearRegression\n",
        "lm = LinearRegression()\n",
        "\n",
        "## fit the model\n",
        "lm.fit(X, Y)\n",
        "\n",
        "## predict training set\n",
        "y_pred = lm.predict(X)\n",
        "\n",
        "## Evaluate the model and plot it\n",
        "from sklearn.metrics import mean_squared_error, r2_score\n",
        "print(\"----- EVALUATION ON TRAIN SET ------\")\n",
        "print(\"RMSE\",np.sqrt(mean_squared_error(Y, y_pred)))\n",
        "print(\"R^2: \",r2_score(Y, y_pred))\n",
        "\n",
        "plt.scatter(Y, y_pred)\n",
        "plt.xlabel('Price')\n",
        "plt.ylabel('Predicted price');\n",
        "plt.show()\n",
        "ax = sns.regplot(x=Y, y=y_pred,line_kws={\"color\": \"red\"} )\n"
      ],
      "execution_count": null,
      "outputs": [
        {
          "output_type": "stream",
          "text": [
            "----- EVALUATION ON TRAIN SET ------\n",
            "RMSE 2.565282415639336\n",
            "R^2:  0.7570428956011818\n"
          ],
          "name": "stdout"
        },
        {
          "output_type": "display_data",
          "data": {
            "image/png": "[encoded data removed]",
            "text/plain": [
              "<Figure size 432x288 with 1 Axes>"
            ]
          },
          "metadata": {
            "tags": [],
            "needs_background": "light"
          }
        },
        {
          "output_type": "display_data",
          "data": {
            "image/png": "[encoded data removed]",
            "text/plain": [
              "<Figure size 432x288 with 1 Axes>"
            ]
          },
          "metadata": {
            "tags": [],
            "needs_background": "light"
          }
        }
      ]
    },
    {
      "cell_type": "code",
      "metadata": {
        "id": "LuoDq_apmH43"
      },
      "source": [
        "redes_sociales = 500\n",
        "email = 100\n",
        "X_test = pd.DataFrame({\n",
        "  \"RedesSociales\": [redes_sociales], \n",
        "  \"Email\" : [email],\n",
        "})\n",
        "\n",
        "## predict the test set and generate the submission file\n",
        "y_pred = lm.predict(X_test)"
      ],
      "execution_count": null,
      "outputs": []
    },
    {
      "cell_type": "code",
      "metadata": {
        "colab": {
          "base_uri": "https://localhost:8080/"
        },
        "id": "Lu4Hu_MinW9v",
        "outputId": "9e6d32ea-320b-467c-f7ba-19f39a451ebb"
      },
      "source": [
        "print(\"Ingresos: \", str(y_pred[0]))"
      ],
      "execution_count": null,
      "outputs": [
        {
          "output_type": "stream",
          "text": [
            "Ingresos:  54.36140839209749\n"
          ],
          "name": "stdout"
        }
      ]
    },
    {
      "cell_type": "markdown",
      "metadata": {
        "id": "qVG9bRPanvsm"
      },
      "source": [
        "# Challenge 3:"
      ]
    },
    {
      "cell_type": "code",
      "metadata": {
        "colab": {
          "base_uri": "https://localhost:8080/",
          "height": 1000
        },
        "id": "MXaEy5NMr3P7",
        "outputId": "7fa689f2-f7a5-445f-ff46-3ba0c78e9e74"
      },
      "source": [
        "!pip install sentencepiece\n",
        "!pip install tf-models-nightly\n",
        "!pip install tf-nightly"
      ],
      "execution_count": null,
      "outputs": [
        {
          "output_type": "stream",
          "text": [
            "Collecting sentencepiece\n",
            "\u001b[?25l  Downloading https://files.pythonhosted.org/packages/14/67/e42bd1181472c95c8cda79305df848264f2a7f62740995a46945d9797b67/sentencepiece-0.1.95-cp36-cp36m-manylinux2014_x86_64.whl (1.2MB)\n",
            "\r\u001b[K     |▎                               | 10kB 16.3MB/s eta 0:00:01\r\u001b[K     |▌                               | 20kB 24.0MB/s eta 0:00:01\r\u001b[K     |▉                               | 30kB 21.5MB/s eta 0:00:01\r\u001b[K     |█                               | 40kB 19.8MB/s eta 0:00:01\r\u001b[K     |█▍                              | 51kB 20.7MB/s eta 0:00:01\r\u001b[K     |█▋                              | 61kB 15.3MB/s eta 0:00:01\r\u001b[K     |██                              | 71kB 15.1MB/s eta 0:00:01\r\u001b[K     |██▏                             | 81kB 14.8MB/s eta 0:00:01\r\u001b[K     |██▌                             | 92kB 14.9MB/s eta 0:00:01\r\u001b[K     |██▊                             | 102kB 15.4MB/s eta 0:00:01\r\u001b[K     |███                             | 112kB 15.4MB/s eta 0:00:01\r\u001b[K     |███▎                            | 122kB 15.4MB/s eta 0:00:01\r\u001b[K     |███▌                            | 133kB 15.4MB/s eta 0:00:01\r\u001b[K     |███▉                            | 143kB 15.4MB/s eta 0:00:01\r\u001b[K     |████                            | 153kB 15.4MB/s eta 0:00:01\r\u001b[K     |████▍                           | 163kB 15.4MB/s eta 0:00:01\r\u001b[K     |████▋                           | 174kB 15.4MB/s eta 0:00:01\r\u001b[K     |█████                           | 184kB 15.4MB/s eta 0:00:01\r\u001b[K     |█████▏                          | 194kB 15.4MB/s eta 0:00:01\r\u001b[K     |█████▌                          | 204kB 15.4MB/s eta 0:00:01\r\u001b[K     |█████▊                          | 215kB 15.4MB/s eta 0:00:01\r\u001b[K     |██████                          | 225kB 15.4MB/s eta 0:00:01\r\u001b[K     |██████▎                         | 235kB 15.4MB/s eta 0:00:01\r\u001b[K     |██████▌                         | 245kB 15.4MB/s eta 0:00:01\r\u001b[K     |██████▉                         | 256kB 15.4MB/s eta 0:00:01\r\u001b[K     |███████                         | 266kB 15.4MB/s eta 0:00:01\r\u001b[K     |███████▍                        | 276kB 15.4MB/s eta 0:00:01\r\u001b[K     |███████▋                        | 286kB 15.4MB/s eta 0:00:01\r\u001b[K     |████████                        | 296kB 15.4MB/s eta 0:00:01\r\u001b[K     |████████▏                       | 307kB 15.4MB/s eta 0:00:01\r\u001b[K     |████████▍                       | 317kB 15.4MB/s eta 0:00:01\r\u001b[K     |████████▊                       | 327kB 15.4MB/s eta 0:00:01\r\u001b[K     |█████████                       | 337kB 15.4MB/s eta 0:00:01\r\u001b[K     |█████████▎                      | 348kB 15.4MB/s eta 0:00:01\r\u001b[K     |█████████▌                      | 358kB 15.4MB/s eta 0:00:01\r\u001b[K     |█████████▉                      | 368kB 15.4MB/s eta 0:00:01\r\u001b[K     |██████████                      | 378kB 15.4MB/s eta 0:00:01\r\u001b[K     |██████████▍                     | 389kB 15.4MB/s eta 0:00:01\r\u001b[K     |██████████▋                     | 399kB 15.4MB/s eta 0:00:01\r\u001b[K     |███████████                     | 409kB 15.4MB/s eta 0:00:01\r\u001b[K     |███████████▏                    | 419kB 15.4MB/s eta 0:00:01\r\u001b[K     |███████████▍                    | 430kB 15.4MB/s eta 0:00:01\r\u001b[K     |███████████▊                    | 440kB 15.4MB/s eta 0:00:01\r\u001b[K     |████████████                    | 450kB 15.4MB/s eta 0:00:01\r\u001b[K     |████████████▎                   | 460kB 15.4MB/s eta 0:00:01\r\u001b[K     |████████████▌                   | 471kB 15.4MB/s eta 0:00:01\r\u001b[K     |████████████▉                   | 481kB 15.4MB/s eta 0:00:01\r\u001b[K     |█████████████                   | 491kB 15.4MB/s eta 0:00:01\r\u001b[K     |█████████████▍                  | 501kB 15.4MB/s eta 0:00:01\r\u001b[K     |█████████████▋                  | 512kB 15.4MB/s eta 0:00:01\r\u001b[K     |█████████████▉                  | 522kB 15.4MB/s eta 0:00:01\r\u001b[K     |██████████████▏                 | 532kB 15.4MB/s eta 0:00:01\r\u001b[K     |██████████████▍                 | 542kB 15.4MB/s eta 0:00:01\r\u001b[K     |██████████████▊                 | 552kB 15.4MB/s eta 0:00:01\r\u001b[K     |███████████████                 | 563kB 15.4MB/s eta 0:00:01\r\u001b[K     |███████████████▎                | 573kB 15.4MB/s eta 0:00:01\r\u001b[K     |███████████████▌                | 583kB 15.4MB/s eta 0:00:01\r\u001b[K     |███████████████▉                | 593kB 15.4MB/s eta 0:00:01\r\u001b[K     |████████████████                | 604kB 15.4MB/s eta 0:00:01\r\u001b[K     |████████████████▍               | 614kB 15.4MB/s eta 0:00:01\r\u001b[K     |████████████████▋               | 624kB 15.4MB/s eta 0:00:01\r\u001b[K     |████████████████▉               | 634kB 15.4MB/s eta 0:00:01\r\u001b[K     |█████████████████▏              | 645kB 15.4MB/s eta 0:00:01\r\u001b[K     |█████████████████▍              | 655kB 15.4MB/s eta 0:00:01\r\u001b[K     |█████████████████▊              | 665kB 15.4MB/s eta 0:00:01\r\u001b[K     |██████████████████              | 675kB 15.4MB/s eta 0:00:01\r\u001b[K     |██████████████████▎             | 686kB 15.4MB/s eta 0:00:01\r\u001b[K     |██████████████████▌             | 696kB 15.4MB/s eta 0:00:01\r\u001b[K     |██████████████████▉             | 706kB 15.4MB/s eta 0:00:01\r\u001b[K     |███████████████████             | 716kB 15.4MB/s eta 0:00:01\r\u001b[K     |███████████████████▎            | 727kB 15.4MB/s eta 0:00:01\r\u001b[K     |███████████████████▋            | 737kB 15.4MB/s eta 0:00:01\r\u001b[K     |███████████████████▉            | 747kB 15.4MB/s eta 0:00:01\r\u001b[K     |████████████████████▏           | 757kB 15.4MB/s eta 0:00:01\r\u001b[K     |████████████████████▍           | 768kB 15.4MB/s eta 0:00:01\r\u001b[K     |████████████████████▊           | 778kB 15.4MB/s eta 0:00:01\r\u001b[K     |█████████████████████           | 788kB 15.4MB/s eta 0:00:01\r\u001b[K     |█████████████████████▎          | 798kB 15.4MB/s eta 0:00:01\r\u001b[K     |█████████████████████▌          | 808kB 15.4MB/s eta 0:00:01\r\u001b[K     |█████████████████████▉          | 819kB 15.4MB/s eta 0:00:01\r\u001b[K     |██████████████████████          | 829kB 15.4MB/s eta 0:00:01\r\u001b[K     |██████████████████████▎         | 839kB 15.4MB/s eta 0:00:01\r\u001b[K     |██████████████████████▋         | 849kB 15.4MB/s eta 0:00:01\r\u001b[K     |██████████████████████▉         | 860kB 15.4MB/s eta 0:00:01\r\u001b[K     |███████████████████████▏        | 870kB 15.4MB/s eta 0:00:01\r\u001b[K     |███████████████████████▍        | 880kB 15.4MB/s eta 0:00:01\r\u001b[K     |███████████████████████▊        | 890kB 15.4MB/s eta 0:00:01\r\u001b[K     |████████████████████████        | 901kB 15.4MB/s eta 0:00:01\r\u001b[K     |████████████████████████▎       | 911kB 15.4MB/s eta 0:00:01\r\u001b[K     |████████████████████████▌       | 921kB 15.4MB/s eta 0:00:01\r\u001b[K     |████████████████████████▊       | 931kB 15.4MB/s eta 0:00:01\r\u001b[K     |█████████████████████████       | 942kB 15.4MB/s eta 0:00:01\r\u001b[K     |█████████████████████████▎      | 952kB 15.4MB/s eta 0:00:01\r\u001b[K     |█████████████████████████▋      | 962kB 15.4MB/s eta 0:00:01\r\u001b[K     |█████████████████████████▉      | 972kB 15.4MB/s eta 0:00:01\r\u001b[K     |██████████████████████████▏     | 983kB 15.4MB/s eta 0:00:01\r\u001b[K     |██████████████████████████▍     | 993kB 15.4MB/s eta 0:00:01\r\u001b[K     |██████████████████████████▊     | 1.0MB 15.4MB/s eta 0:00:01\r\u001b[K     |███████████████████████████     | 1.0MB 15.4MB/s eta 0:00:01\r\u001b[K     |███████████████████████████▎    | 1.0MB 15.4MB/s eta 0:00:01\r\u001b[K     |███████████████████████████▌    | 1.0MB 15.4MB/s eta 0:00:01\r\u001b[K     |███████████████████████████▊    | 1.0MB 15.4MB/s eta 0:00:01\r\u001b[K     |████████████████████████████    | 1.1MB 15.4MB/s eta 0:00:01\r\u001b[K     |████████████████████████████▎   | 1.1MB 15.4MB/s eta 0:00:01\r\u001b[K     |████████████████████████████▋   | 1.1MB 15.4MB/s eta 0:00:01\r\u001b[K     |████████████████████████████▉   | 1.1MB 15.4MB/s eta 0:00:01\r\u001b[K     |█████████████████████████████▏  | 1.1MB 15.4MB/s eta 0:00:01\r\u001b[K     |█████████████████████████████▍  | 1.1MB 15.4MB/s eta 0:00:01\r\u001b[K     |█████████████████████████████▊  | 1.1MB 15.4MB/s eta 0:00:01\r\u001b[K     |██████████████████████████████  | 1.1MB 15.4MB/s eta 0:00:01\r\u001b[K     |██████████████████████████████▏ | 1.1MB 15.4MB/s eta 0:00:01\r\u001b[K     |██████████████████████████████▌ | 1.1MB 15.4MB/s eta 0:00:01\r\u001b[K     |██████████████████████████████▊ | 1.2MB 15.4MB/s eta 0:00:01\r\u001b[K     |███████████████████████████████ | 1.2MB 15.4MB/s eta 0:00:01\r\u001b[K     |███████████████████████████████▎| 1.2MB 15.4MB/s eta 0:00:01\r\u001b[K     |███████████████████████████████▋| 1.2MB 15.4MB/s eta 0:00:01\r\u001b[K     |███████████████████████████████▉| 1.2MB 15.4MB/s eta 0:00:01\r\u001b[K     |████████████████████████████████| 1.2MB 15.4MB/s \n",
            "\u001b[?25hInstalling collected packages: sentencepiece\n",
            "Successfully installed sentencepiece-0.1.95\n",
            "Collecting tf-models-nightly\n",
            "\u001b[?25l  Downloading https://files.pythonhosted.org/packages/47/ed/dc018f12ec13e8b487215b6c86390651d01bfe8db2f769cad64941e95aae/tf_models_nightly-2.4.0.dev20210123-py2.py3-none-any.whl (1.2MB)\n",
            "\u001b[K     |████████████████████████████████| 1.2MB 17.3MB/s \n",
            "\u001b[?25hRequirement already satisfied: gin-config in /usr/local/lib/python3.6/dist-packages (from tf-models-nightly) (0.4.0)\n",
            "Collecting sacrebleu\n",
            "\u001b[?25l  Downloading https://files.pythonhosted.org/packages/3b/7f/4fd83db8570288c3899d8e57666c2841403c15659f3d792a3cb8dc1c6689/sacrebleu-1.5.0-py3-none-any.whl (65kB)\n",
            "\u001b[K     |████████████████████████████████| 71kB 11.9MB/s \n",
            "\u001b[?25hRequirement already satisfied: tensorflow-datasets in /usr/local/lib/python3.6/dist-packages (from tf-models-nightly) (4.0.1)\n",
            "Requirement already satisfied: Pillow in /usr/local/lib/python3.6/dist-packages (from tf-models-nightly) (7.0.0)\n",
            "Requirement already satisfied: tensorflow-addons in /usr/local/lib/python3.6/dist-packages (from tf-models-nightly) (0.8.3)\n",
            "Collecting seqeval\n",
            "\u001b[?25l  Downloading https://files.pythonhosted.org/packages/9d/2d/233c79d5b4e5ab1dbf111242299153f3caddddbb691219f363ad55ce783d/seqeval-1.2.2.tar.gz (43kB)\n",
            "\u001b[K     |████████████████████████████████| 51kB 9.3MB/s \n",
            "\u001b[?25hCollecting tf-nightly\n",
            "\u001b[?25l  Downloading https://files.pythonhosted.org/packages/16/7e/6fbc14be82fd76f225770f0790ac099d1241aa4c472dacf684718e11fd18/tf_nightly-2.5.0.dev20210123-cp36-cp36m-manylinux2010_x86_64.whl (401.1MB)\n",
            "\u001b[K     |████████████████████████████████| 401.1MB 43kB/s \n",
            "\u001b[?25hRequirement already satisfied: google-cloud-bigquery>=0.31.0 in /usr/local/lib/python3.6/dist-packages (from tf-models-nightly) (1.21.0)\n",
            "Collecting tensorflow-model-optimization>=0.4.1\n",
            "\u001b[?25l  Downloading https://files.pythonhosted.org/packages/55/38/4fd48ea1bfcb0b6e36d949025200426fe9c3a8bfae029f0973d85518fa5a/tensorflow_model_optimization-0.5.0-py2.py3-none-any.whl (172kB)\n",
            "\u001b[K     |████████████████████████████████| 174kB 64.3MB/s \n",
            "\u001b[?25hCollecting pyyaml>=5.1\n",
            "\u001b[?25l  Downloading https://files.pythonhosted.org/packages/7a/5b/bc0b5ab38247bba158504a410112b6c03f153c652734ece1849749e5f518/PyYAML-5.4.1-cp36-cp36m-manylinux1_x86_64.whl (640kB)\n",
            "\u001b[K     |████████████████████████████████| 645kB 52.8MB/s \n",
            "\u001b[?25hCollecting opencv-python-headless\n",
            "\u001b[?25l  Downloading https://files.pythonhosted.org/packages/96/fc/4da675cc522a749ebbcf85c5a63fba844b2d44c87e6f24e3fdb147df3270/opencv_python_headless-4.5.1.48-cp36-cp36m-manylinux2014_x86_64.whl (37.6MB)\n",
            "\u001b[K     |████████████████████████████████| 37.6MB 63kB/s \n",
            "\u001b[?25hRequirement already satisfied: scipy>=0.19.1 in /usr/local/lib/python3.6/dist-packages (from tf-models-nightly) (1.4.1)\n",
            "Requirement already satisfied: kaggle>=1.3.9 in /usr/local/lib/python3.6/dist-packages (from tf-models-nightly) (1.5.10)\n",
            "Requirement already satisfied: pycocotools in /usr/local/lib/python3.6/dist-packages (from tf-models-nightly) (2.0.2)\n",
            "Requirement already satisfied: tensorflow-hub>=0.6.0 in /usr/local/lib/python3.6/dist-packages (from tf-models-nightly) (0.11.0)\n",
            "Requirement already satisfied: sentencepiece in /usr/local/lib/python3.6/dist-packages (from tf-models-nightly) (0.1.95)\n",
            "Requirement already satisfied: pandas>=0.22.0 in /usr/local/lib/python3.6/dist-packages (from tf-models-nightly) (1.1.5)\n",
            "Requirement already satisfied: matplotlib in /usr/local/lib/python3.6/dist-packages (from tf-models-nightly) (3.2.2)\n",
            "Collecting py-cpuinfo>=3.3.0\n",
            "\u001b[?25l  Downloading https://files.pythonhosted.org/packages/f6/f5/8e6e85ce2e9f6e05040cf0d4e26f43a4718bcc4bce988b433276d4b1a5c1/py-cpuinfo-7.0.0.tar.gz (95kB)\n",
            "\u001b[K     |████████████████████████████████| 102kB 14.4MB/s \n",
            "\u001b[?25hRequirement already satisfied: six in /usr/local/lib/python3.6/dist-packages (from tf-models-nightly) (1.15.0)\n",
            "Requirement already satisfied: Cython in /usr/local/lib/python3.6/dist-packages (from tf-models-nightly) (0.29.21)\n",
            "Collecting tf-slim>=1.1.0\n",
            "\u001b[?25l  Downloading https://files.pythonhosted.org/packages/02/97/b0f4a64df018ca018cc035d44f2ef08f91e2e8aa67271f6f19633a015ff7/tf_slim-1.1.0-py2.py3-none-any.whl (352kB)\n",
            "\u001b[K     |████████████████████████████████| 358kB 59.9MB/s \n",
            "\u001b[?25hCollecting tensorflow-text-nightly\n",
            "\u001b[?25l  Downloading https://files.pythonhosted.org/packages/15/3b/105e6f9877b21f09b2e8441246ef0975387f2a50f21899e09c3a6ca759a0/tensorflow_text_nightly-2.5.0.dev20210120-cp36-cp36m-manylinux1_x86_64.whl (3.4MB)\n",
            "\u001b[K     |████████████████████████████████| 3.4MB 55.2MB/s \n",
            "\u001b[?25hRequirement already satisfied: oauth2client in /usr/local/lib/python3.6/dist-packages (from tf-models-nightly) (4.1.3)\n",
            "Requirement already satisfied: google-api-python-client>=1.6.7 in /usr/local/lib/python3.6/dist-packages (from tf-models-nightly) (1.7.12)\n",
            "Requirement already satisfied: numpy>=1.15.4 in /usr/local/lib/python3.6/dist-packages (from tf-models-nightly) (1.19.5)\n",
            "Requirement already satisfied: dataclasses in /usr/local/lib/python3.6/dist-packages (from tf-models-nightly) (0.8)\n",
            "Requirement already satisfied: psutil>=5.4.3 in /usr/local/lib/python3.6/dist-packages (from tf-models-nightly) (5.4.8)\n",
            "Collecting portalocker\n",
            "  Downloading https://files.pythonhosted.org/packages/89/a6/3814b7107e0788040870e8825eebf214d72166adf656ba7d4bf14759a06a/portalocker-2.0.0-py2.py3-none-any.whl\n",
            "Requirement already satisfied: importlib-resources; python_version < \"3.9\" in /usr/local/lib/python3.6/dist-packages (from tensorflow-datasets->tf-models-nightly) (4.1.1)\n",
            "Requirement already satisfied: termcolor in /usr/local/lib/python3.6/dist-packages (from tensorflow-datasets->tf-models-nightly) (1.1.0)\n",
            "Requirement already satisfied: dm-tree in /usr/local/lib/python3.6/dist-packages (from tensorflow-datasets->tf-models-nightly) (0.1.5)\n",
            "Requirement already satisfied: requests>=2.19.0 in /usr/local/lib/python3.6/dist-packages (from tensorflow-datasets->tf-models-nightly) (2.23.0)\n",
            "Requirement already satisfied: protobuf>=3.6.1 in /usr/local/lib/python3.6/dist-packages (from tensorflow-datasets->tf-models-nightly) (3.12.4)\n",
            "Requirement already satisfied: promise in /usr/local/lib/python3.6/dist-packages (from tensorflow-datasets->tf-models-nightly) (2.3)\n",
            "Requirement already satisfied: future in /usr/local/lib/python3.6/dist-packages (from tensorflow-datasets->tf-models-nightly) (0.16.0)\n",
            "Requirement already satisfied: tensorflow-metadata in /usr/local/lib/python3.6/dist-packages (from tensorflow-datasets->tf-models-nightly) (0.26.0)\n",
            "Requirement already satisfied: attrs>=18.1.0 in /usr/local/lib/python3.6/dist-packages (from tensorflow-datasets->tf-models-nightly) (20.3.0)\n",
            "Requirement already satisfied: dill in /usr/local/lib/python3.6/dist-packages (from tensorflow-datasets->tf-models-nightly) (0.3.3)\n",
            "Requirement already satisfied: tqdm in /usr/local/lib/python3.6/dist-packages (from tensorflow-datasets->tf-models-nightly) (4.41.1)\n",
            "Requirement already satisfied: absl-py in /usr/local/lib/python3.6/dist-packages (from tensorflow-datasets->tf-models-nightly) (0.10.0)\n",
            "Requirement already satisfied: typeguard in /usr/local/lib/python3.6/dist-packages (from tensorflow-addons->tf-models-nightly) (2.7.1)\n",
            "Requirement already satisfied: scikit-learn>=0.21.3 in /usr/local/lib/python3.6/dist-packages (from seqeval->tf-models-nightly) (0.22.2.post1)\n",
            "Collecting h5py~=3.1.0\n",
            "\u001b[?25l  Downloading https://files.pythonhosted.org/packages/70/7a/e53e500335afb6b1aade11227cdf107fca54106a1dca5c9d13242a043f3b/h5py-3.1.0-cp36-cp36m-manylinux1_x86_64.whl (4.0MB)\n",
            "\u001b[K     |████████████████████████████████| 4.0MB 44.5MB/s \n",
            "\u001b[?25hRequirement already satisfied: flatbuffers~=1.12.0 in /usr/local/lib/python3.6/dist-packages (from tf-nightly->tf-models-nightly) (1.12)\n",
            "Requirement already satisfied: wheel~=0.35 in /usr/local/lib/python3.6/dist-packages (from tf-nightly->tf-models-nightly) (0.36.2)\n",
            "Requirement already satisfied: wrapt~=1.12.1 in /usr/local/lib/python3.6/dist-packages (from tf-nightly->tf-models-nightly) (1.12.1)\n",
            "Collecting gast==0.4.0\n",
            "  Downloading https://files.pythonhosted.org/packages/b6/48/583c032b79ae5b3daa02225a675aeb673e58d2cb698e78510feceb11958c/gast-0.4.0-py3-none-any.whl\n",
            "Requirement already satisfied: google-pasta~=0.2 in /usr/local/lib/python3.6/dist-packages (from tf-nightly->tf-models-nightly) (0.2.0)\n",
            "Requirement already satisfied: astunparse~=1.6.3 in /usr/local/lib/python3.6/dist-packages (from tf-nightly->tf-models-nightly) (1.6.3)\n",
            "Collecting tb-nightly~=2.5.0.a\n",
            "\u001b[?25l  Downloading https://files.pythonhosted.org/packages/60/41/9a4f7a6b232f598128290207104f19d7ea141dce739881d254dbaa966d6a/tb_nightly-2.5.0a20210123-py3-none-any.whl (12.2MB)\n",
            "\u001b[K     |████████████████████████████████| 12.2MB 42.9MB/s \n",
            "\u001b[?25hCollecting grpcio~=1.34.0\n",
            "\u001b[?25l  Downloading https://files.pythonhosted.org/packages/ab/f5/3d3bcb82beae990021cbf6877456a1aab650e68c902194566edd6a73e37c/grpcio-1.34.1-cp36-cp36m-manylinux2014_x86_64.whl (4.0MB)\n",
            "\u001b[K     |████████████████████████████████| 4.0MB 46.6MB/s \n",
            "\u001b[?25hCollecting tf-estimator-nightly~=2.5.0.dev\n",
            "\u001b[?25l  Downloading https://files.pythonhosted.org/packages/39/54/f655212242b00fad582b61bd1e20cd39e48d22beae7f56f1c7788a1f2715/tf_estimator_nightly-2.5.0.dev2021012301-py2.py3-none-any.whl (462kB)\n",
            "\u001b[K     |████████████████████████████████| 471kB 57.0MB/s \n",
            "\u001b[?25hRequirement already satisfied: keras-preprocessing~=1.1.2 in /usr/local/lib/python3.6/dist-packages (from tf-nightly->tf-models-nightly) (1.1.2)\n",
            "Requirement already satisfied: typing-extensions~=3.7.4 in /usr/local/lib/python3.6/dist-packages (from tf-nightly->tf-models-nightly) (3.7.4.3)\n",
            "Requirement already satisfied: opt-einsum~=3.3.0 in /usr/local/lib/python3.6/dist-packages (from tf-nightly->tf-models-nightly) (3.3.0)\n",
            "Requirement already satisfied: google-cloud-core<2.0dev,>=1.0.3 in /usr/local/lib/python3.6/dist-packages (from google-cloud-bigquery>=0.31.0->tf-models-nightly) (1.0.3)\n",
            "Requirement already satisfied: google-resumable-media!=0.4.0,<0.5.0dev,>=0.3.1 in /usr/local/lib/python3.6/dist-packages (from google-cloud-bigquery>=0.31.0->tf-models-nightly) (0.4.1)\n",
            "Requirement already satisfied: certifi in /usr/local/lib/python3.6/dist-packages (from kaggle>=1.3.9->tf-models-nightly) (2020.12.5)\n",
            "Requirement already satisfied: python-slugify in /usr/local/lib/python3.6/dist-packages (from kaggle>=1.3.9->tf-models-nightly) (4.0.1)\n",
            "Requirement already satisfied: python-dateutil in /usr/local/lib/python3.6/dist-packages (from kaggle>=1.3.9->tf-models-nightly) (2.8.1)\n",
            "Requirement already satisfied: urllib3 in /usr/local/lib/python3.6/dist-packages (from kaggle>=1.3.9->tf-models-nightly) (1.24.3)\n",
            "Requirement already satisfied: setuptools>=18.0 in /usr/local/lib/python3.6/dist-packages (from pycocotools->tf-models-nightly) (51.3.3)\n",
            "Requirement already satisfied: pytz>=2017.2 in /usr/local/lib/python3.6/dist-packages (from pandas>=0.22.0->tf-models-nightly) (2018.9)\n",
            "Requirement already satisfied: pyparsing!=2.0.4,!=2.1.2,!=2.1.6,>=2.0.1 in /usr/local/lib/python3.6/dist-packages (from matplotlib->tf-models-nightly) (2.4.7)\n",
            "Requirement already satisfied: kiwisolver>=1.0.1 in /usr/local/lib/python3.6/dist-packages (from matplotlib->tf-models-nightly) (1.3.1)\n",
            "Requirement already satisfied: cycler>=0.10 in /usr/local/lib/python3.6/dist-packages (from matplotlib->tf-models-nightly) (0.10.0)\n",
            "Requirement already satisfied: httplib2>=0.9.1 in /usr/local/lib/python3.6/dist-packages (from oauth2client->tf-models-nightly) (0.17.4)\n",
            "Requirement already satisfied: pyasn1>=0.1.7 in /usr/local/lib/python3.6/dist-packages (from oauth2client->tf-models-nightly) (0.4.8)\n",
            "Requirement already satisfied: rsa>=3.1.4 in /usr/local/lib/python3.6/dist-packages (from oauth2client->tf-models-nightly) (4.6)\n",
            "Requirement already satisfied: pyasn1-modules>=0.0.5 in /usr/local/lib/python3.6/dist-packages (from oauth2client->tf-models-nightly) (0.2.8)\n",
            "Requirement already satisfied: uritemplate<4dev,>=3.0.0 in /usr/local/lib/python3.6/dist-packages (from google-api-python-client>=1.6.7->tf-models-nightly) (3.0.1)\n",
            "Requirement already satisfied: google-auth-httplib2>=0.0.3 in /usr/local/lib/python3.6/dist-packages (from google-api-python-client>=1.6.7->tf-models-nightly) (0.0.4)\n",
            "Requirement already satisfied: google-auth>=1.4.1 in /usr/local/lib/python3.6/dist-packages (from google-api-python-client>=1.6.7->tf-models-nightly) (1.17.2)\n",
            "Requirement already satisfied: zipp>=0.4; python_version < \"3.8\" in /usr/local/lib/python3.6/dist-packages (from importlib-resources; python_version < \"3.9\"->tensorflow-datasets->tf-models-nightly) (3.4.0)\n",
            "Requirement already satisfied: idna<3,>=2.5 in /usr/local/lib/python3.6/dist-packages (from requests>=2.19.0->tensorflow-datasets->tf-models-nightly) (2.10)\n",
            "Requirement already satisfied: chardet<4,>=3.0.2 in /usr/local/lib/python3.6/dist-packages (from requests>=2.19.0->tensorflow-datasets->tf-models-nightly) (3.0.4)\n",
            "Requirement already satisfied: googleapis-common-protos<2,>=1.52.0 in /usr/local/lib/python3.6/dist-packages (from tensorflow-metadata->tensorflow-datasets->tf-models-nightly) (1.52.0)\n",
            "Requirement already satisfied: joblib>=0.11 in /usr/local/lib/python3.6/dist-packages (from scikit-learn>=0.21.3->seqeval->tf-models-nightly) (1.0.0)\n",
            "Collecting cached-property; python_version < \"3.8\"\n",
            "  Downloading https://files.pythonhosted.org/packages/48/19/f2090f7dad41e225c7f2326e4cfe6fff49e57dedb5b53636c9551f86b069/cached_property-1.5.2-py2.py3-none-any.whl\n",
            "Requirement already satisfied: google-auth-oauthlib<0.5,>=0.4.1 in /usr/local/lib/python3.6/dist-packages (from tb-nightly~=2.5.0.a->tf-nightly->tf-models-nightly) (0.4.2)\n",
            "Requirement already satisfied: werkzeug>=0.11.15 in /usr/local/lib/python3.6/dist-packages (from tb-nightly~=2.5.0.a->tf-nightly->tf-models-nightly) (1.0.1)\n",
            "Requirement already satisfied: markdown>=2.6.8 in /usr/local/lib/python3.6/dist-packages (from tb-nightly~=2.5.0.a->tf-nightly->tf-models-nightly) (3.3.3)\n",
            "Requirement already satisfied: tensorboard-plugin-wit>=1.6.0 in /usr/local/lib/python3.6/dist-packages (from tb-nightly~=2.5.0.a->tf-nightly->tf-models-nightly) (1.7.0)\n",
            "Requirement already satisfied: google-api-core<2.0.0dev,>=1.14.0 in /usr/local/lib/python3.6/dist-packages (from google-cloud-core<2.0dev,>=1.0.3->google-cloud-bigquery>=0.31.0->tf-models-nightly) (1.16.0)\n",
            "Requirement already satisfied: text-unidecode>=1.3 in /usr/local/lib/python3.6/dist-packages (from python-slugify->kaggle>=1.3.9->tf-models-nightly) (1.3)\n",
            "Requirement already satisfied: cachetools<5.0,>=2.0.0 in /usr/local/lib/python3.6/dist-packages (from google-auth>=1.4.1->google-api-python-client>=1.6.7->tf-models-nightly) (4.2.0)\n",
            "Requirement already satisfied: requests-oauthlib>=0.7.0 in /usr/local/lib/python3.6/dist-packages (from google-auth-oauthlib<0.5,>=0.4.1->tb-nightly~=2.5.0.a->tf-nightly->tf-models-nightly) (1.3.0)\n",
            "Requirement already satisfied: importlib-metadata; python_version < \"3.8\" in /usr/local/lib/python3.6/dist-packages (from markdown>=2.6.8->tb-nightly~=2.5.0.a->tf-nightly->tf-models-nightly) (3.3.0)\n",
            "Requirement already satisfied: oauthlib>=3.0.0 in /usr/local/lib/python3.6/dist-packages (from requests-oauthlib>=0.7.0->google-auth-oauthlib<0.5,>=0.4.1->tb-nightly~=2.5.0.a->tf-nightly->tf-models-nightly) (3.1.0)\n",
            "Building wheels for collected packages: seqeval, py-cpuinfo\n",
            "  Building wheel for seqeval (setup.py) ... \u001b[?25l\u001b[?25hdone\n",
            "  Created wheel for seqeval: filename=seqeval-1.2.2-cp36-none-any.whl size=16171 sha256=3cf05d5715bc52411a233a2be4710abd5ff052481e8498d2182c6859d1f8f4f1\n",
            "  Stored in directory: /root/.cache/pip/wheels/52/df/1b/45d75646c37428f7e626214704a0e35bd3cfc32eda37e59e5f\n",
            "  Building wheel for py-cpuinfo (setup.py) ... \u001b[?25l\u001b[?25hdone\n",
            "  Created wheel for py-cpuinfo: filename=py_cpuinfo-7.0.0-cp36-none-any.whl size=20072 sha256=625dec88b9819dac581cd9a17667d0d2260b37261ac395b17c92c36234569474\n",
            "  Stored in directory: /root/.cache/pip/wheels/f1/93/7b/127daf0c3a5a49feb2fecd468d508067c733fba5192f726ad1\n",
            "Successfully built seqeval py-cpuinfo\n",
            "\u001b[31mERROR: tensorflow 2.4.0 has requirement gast==0.3.3, but you'll have gast 0.4.0 which is incompatible.\u001b[0m\n",
            "\u001b[31mERROR: tensorflow 2.4.0 has requirement grpcio~=1.32.0, but you'll have grpcio 1.34.1 which is incompatible.\u001b[0m\n",
            "\u001b[31mERROR: tensorflow 2.4.0 has requirement h5py~=2.10.0, but you'll have h5py 3.1.0 which is incompatible.\u001b[0m\n",
            "Installing collected packages: portalocker, sacrebleu, seqeval, cached-property, h5py, gast, grpcio, tb-nightly, tf-estimator-nightly, tf-nightly, tensorflow-model-optimization, pyyaml, opencv-python-headless, py-cpuinfo, tf-slim, tensorflow-text-nightly, tf-models-nightly\n",
            "  Found existing installation: h5py 2.10.0\n",
            "    Uninstalling h5py-2.10.0:\n",
            "      Successfully uninstalled h5py-2.10.0\n",
            "  Found existing installation: gast 0.3.3\n",
            "    Uninstalling gast-0.3.3:\n",
            "      Successfully uninstalled gast-0.3.3\n",
            "  Found existing installation: grpcio 1.32.0\n",
            "    Uninstalling grpcio-1.32.0:\n",
            "      Successfully uninstalled grpcio-1.32.0\n",
            "  Found existing installation: PyYAML 3.13\n",
            "    Uninstalling PyYAML-3.13:\n",
            "      Successfully uninstalled PyYAML-3.13\n",
            "Successfully installed cached-property-1.5.2 gast-0.4.0 grpcio-1.34.1 h5py-3.1.0 opencv-python-headless-4.5.1.48 portalocker-2.0.0 py-cpuinfo-7.0.0 pyyaml-5.4.1 sacrebleu-1.5.0 seqeval-1.2.2 tb-nightly-2.5.0a20210123 tensorflow-model-optimization-0.5.0 tensorflow-text-nightly-2.5.0.dev20210120 tf-estimator-nightly-2.5.0.dev2021012301 tf-models-nightly-2.4.0.dev20210123 tf-nightly-2.5.0.dev20210123 tf-slim-1.1.0\n"
          ],
          "name": "stdout"
        },
        {
          "output_type": "display_data",
          "data": {
            "application/vnd.colab-display-data+json": {
              "pip_warning": {
                "packages": [
                  "cv2",
                  "gast",
                  "h5py",
                  "tensorboard",
                  "tensorflow",
                  "yaml"
                ]
              }
            }
          },
          "metadata": {
            "tags": []
          }
        },
        {
          "output_type": "stream",
          "text": [
            "Requirement already satisfied: tf-nightly in /usr/local/lib/python3.6/dist-packages (2.5.0.dev20210123)\n",
            "Requirement already satisfied: wheel~=0.35 in /usr/local/lib/python3.6/dist-packages (from tf-nightly) (0.36.2)\n",
            "Requirement already satisfied: h5py~=3.1.0 in /usr/local/lib/python3.6/dist-packages (from tf-nightly) (3.1.0)\n",
            "Requirement already satisfied: astunparse~=1.6.3 in /usr/local/lib/python3.6/dist-packages (from tf-nightly) (1.6.3)\n",
            "Requirement already satisfied: opt-einsum~=3.3.0 in /usr/local/lib/python3.6/dist-packages (from tf-nightly) (3.3.0)\n",
            "Requirement already satisfied: flatbuffers~=1.12.0 in /usr/local/lib/python3.6/dist-packages (from tf-nightly) (1.12)\n",
            "Requirement already satisfied: six~=1.15.0 in /usr/local/lib/python3.6/dist-packages (from tf-nightly) (1.15.0)\n",
            "Requirement already satisfied: gast==0.4.0 in /usr/local/lib/python3.6/dist-packages (from tf-nightly) (0.4.0)\n",
            "Requirement already satisfied: tb-nightly~=2.5.0.a in /usr/local/lib/python3.6/dist-packages (from tf-nightly) (2.5.0a20210123)\n",
            "Requirement already satisfied: grpcio~=1.34.0 in /usr/local/lib/python3.6/dist-packages (from tf-nightly) (1.34.1)\n",
            "Requirement already satisfied: google-pasta~=0.2 in /usr/local/lib/python3.6/dist-packages (from tf-nightly) (0.2.0)\n",
            "Requirement already satisfied: tf-estimator-nightly~=2.5.0.dev in /usr/local/lib/python3.6/dist-packages (from tf-nightly) (2.5.0.dev2021012301)\n",
            "Requirement already satisfied: keras-preprocessing~=1.1.2 in /usr/local/lib/python3.6/dist-packages (from tf-nightly) (1.1.2)\n",
            "Requirement already satisfied: typing-extensions~=3.7.4 in /usr/local/lib/python3.6/dist-packages (from tf-nightly) (3.7.4.3)\n",
            "Requirement already satisfied: wrapt~=1.12.1 in /usr/local/lib/python3.6/dist-packages (from tf-nightly) (1.12.1)\n",
            "Requirement already satisfied: protobuf>=3.9.2 in /usr/local/lib/python3.6/dist-packages (from tf-nightly) (3.12.4)\n",
            "Requirement already satisfied: absl-py~=0.10 in /usr/local/lib/python3.6/dist-packages (from tf-nightly) (0.10.0)\n",
            "Requirement already satisfied: numpy~=1.19.2 in /usr/local/lib/python3.6/dist-packages (from tf-nightly) (1.19.5)\n",
            "Requirement already satisfied: termcolor~=1.1.0 in /usr/local/lib/python3.6/dist-packages (from tf-nightly) (1.1.0)\n",
            "Requirement already satisfied: cached-property; python_version < \"3.8\" in /usr/local/lib/python3.6/dist-packages (from h5py~=3.1.0->tf-nightly) (1.5.2)\n",
            "Requirement already satisfied: tensorboard-plugin-wit>=1.6.0 in /usr/local/lib/python3.6/dist-packages (from tb-nightly~=2.5.0.a->tf-nightly) (1.7.0)\n",
            "Requirement already satisfied: google-auth-oauthlib<0.5,>=0.4.1 in /usr/local/lib/python3.6/dist-packages (from tb-nightly~=2.5.0.a->tf-nightly) (0.4.2)\n",
            "Requirement already satisfied: setuptools>=41.0.0 in /usr/local/lib/python3.6/dist-packages (from tb-nightly~=2.5.0.a->tf-nightly) (51.3.3)\n",
            "Requirement already satisfied: markdown>=2.6.8 in /usr/local/lib/python3.6/dist-packages (from tb-nightly~=2.5.0.a->tf-nightly) (3.3.3)\n",
            "Requirement already satisfied: werkzeug>=0.11.15 in /usr/local/lib/python3.6/dist-packages (from tb-nightly~=2.5.0.a->tf-nightly) (1.0.1)\n",
            "Requirement already satisfied: google-auth<2,>=1.6.3 in /usr/local/lib/python3.6/dist-packages (from tb-nightly~=2.5.0.a->tf-nightly) (1.17.2)\n",
            "Requirement already satisfied: requests<3,>=2.21.0 in /usr/local/lib/python3.6/dist-packages (from tb-nightly~=2.5.0.a->tf-nightly) (2.23.0)\n",
            "Requirement already satisfied: requests-oauthlib>=0.7.0 in /usr/local/lib/python3.6/dist-packages (from google-auth-oauthlib<0.5,>=0.4.1->tb-nightly~=2.5.0.a->tf-nightly) (1.3.0)\n",
            "Requirement already satisfied: importlib-metadata; python_version < \"3.8\" in /usr/local/lib/python3.6/dist-packages (from markdown>=2.6.8->tb-nightly~=2.5.0.a->tf-nightly) (3.3.0)\n",
            "Requirement already satisfied: pyasn1-modules>=0.2.1 in /usr/local/lib/python3.6/dist-packages (from google-auth<2,>=1.6.3->tb-nightly~=2.5.0.a->tf-nightly) (0.2.8)\n",
            "Requirement already satisfied: rsa<5,>=3.1.4; python_version >= \"3\" in /usr/local/lib/python3.6/dist-packages (from google-auth<2,>=1.6.3->tb-nightly~=2.5.0.a->tf-nightly) (4.6)\n",
            "Requirement already satisfied: cachetools<5.0,>=2.0.0 in /usr/local/lib/python3.6/dist-packages (from google-auth<2,>=1.6.3->tb-nightly~=2.5.0.a->tf-nightly) (4.2.0)\n",
            "Requirement already satisfied: idna<3,>=2.5 in /usr/local/lib/python3.6/dist-packages (from requests<3,>=2.21.0->tb-nightly~=2.5.0.a->tf-nightly) (2.10)\n",
            "Requirement already satisfied: chardet<4,>=3.0.2 in /usr/local/lib/python3.6/dist-packages (from requests<3,>=2.21.0->tb-nightly~=2.5.0.a->tf-nightly) (3.0.4)\n",
            "Requirement already satisfied: certifi>=2017.4.17 in /usr/local/lib/python3.6/dist-packages (from requests<3,>=2.21.0->tb-nightly~=2.5.0.a->tf-nightly) (2020.12.5)\n",
            "Requirement already satisfied: urllib3!=1.25.0,!=1.25.1,<1.26,>=1.21.1 in /usr/local/lib/python3.6/dist-packages (from requests<3,>=2.21.0->tb-nightly~=2.5.0.a->tf-nightly) (1.24.3)\n",
            "Requirement already satisfied: oauthlib>=3.0.0 in /usr/local/lib/python3.6/dist-packages (from requests-oauthlib>=0.7.0->google-auth-oauthlib<0.5,>=0.4.1->tb-nightly~=2.5.0.a->tf-nightly) (3.1.0)\n",
            "Requirement already satisfied: zipp>=0.5 in /usr/local/lib/python3.6/dist-packages (from importlib-metadata; python_version < \"3.8\"->markdown>=2.6.8->tb-nightly~=2.5.0.a->tf-nightly) (3.4.0)\n",
            "Requirement already satisfied: pyasn1<0.5.0,>=0.4.6 in /usr/local/lib/python3.6/dist-packages (from pyasn1-modules>=0.2.1->google-auth<2,>=1.6.3->tb-nightly~=2.5.0.a->tf-nightly) (0.4.8)\n"
          ],
          "name": "stdout"
        }
      ]
    },
    {
      "cell_type": "code",
      "metadata": {
        "id": "WbQXEF7qnurz"
      },
      "source": [
        "from sklearn.datasets import fetch_20newsgroups\n",
        "import numpy as np\n",
        "import math\n",
        "import re\n",
        "import pandas as pd\n",
        "from bs4 import BeautifulSoup\n",
        "import random\n",
        "import tensorflow as tf\n",
        "from tensorflow.keras import layers\n",
        "import tensorflow_hub as hub"
      ],
      "execution_count": null,
      "outputs": []
    },
    {
      "cell_type": "code",
      "metadata": {
        "id": "HrOMt_9eqy6-"
      },
      "source": [
        "try:\n",
        "    %tensorflow_version 2.x\n",
        "except:\n",
        "    pass\n",
        "import tensorflow as tf"
      ],
      "execution_count": null,
      "outputs": []
    },
    {
      "cell_type": "code",
      "metadata": {
        "id": "OAEKc5Bcq3Wo"
      },
      "source": [
        "import numpy as np\n",
        "import math\n",
        "import re\n",
        "import pandas as pd\n",
        "from bs4 import BeautifulSoup\n",
        "import random"
      ],
      "execution_count": null,
      "outputs": []
    },
    {
      "cell_type": "code",
      "metadata": {
        "colab": {
          "base_uri": "https://localhost:8080/"
        },
        "id": "QkCuKRghniye",
        "outputId": "0c7cf0b5-ed21-4368-faf9-536e5b5a69c3"
      },
      "source": [
        "def twenty_newsgroup_to_csv():\n",
        "    newsgroups_train = fetch_20newsgroups(remove=('headers', 'footers', 'quotes'))\n",
        "\n",
        "    df = pd.DataFrame([newsgroups_train.data, newsgroups_train.target.tolist()]).T\n",
        "    df.columns = ['text', 'target']\n",
        "\n",
        "    targets = pd.DataFrame( newsgroups_train.target_names)\n",
        "    targets.columns=['title']\n",
        "\n",
        "    out = pd.merge(df, targets, left_on='target', right_index=True)\n",
        "    out['date'] = pd.to_datetime('now')\n",
        "    return out\n",
        "\n",
        "data = twenty_newsgroup_to_csv()"
      ],
      "execution_count": null,
      "outputs": [
        {
          "output_type": "stream",
          "text": [
            "Downloading 20news dataset. This may take a few minutes.\n",
            "Downloading dataset from https://ndownloader.figshare.com/files/5975967 (14 MB)\n"
          ],
          "name": "stderr"
        }
      ]
    },
    {
      "cell_type": "code",
      "metadata": {
        "id": "7UFfva32oP0l"
      },
      "source": [
        "def clean_data(data):\n",
        "    data = BeautifulSoup(data, \"lxml\").get_text()\n",
        "    # Removing the @\n",
        "    data = re.sub(r\"@[A-Za-z0-9]+\", ' ', data)\n",
        "    # Removing the URL links\n",
        "    data = re.sub(r\"https?://[A-Za-z0-9./]+\", ' ', data)\n",
        "    # Keeping only letters\n",
        "    data = re.sub(r\"[^a-zA-Z.!?']\", ' ', data)\n",
        "    # Removing additional whitespaces\n",
        "    data = re.sub(r\" +\", ' ', data)\n",
        "    return data"
      ],
      "execution_count": null,
      "outputs": []
    },
    {
      "cell_type": "code",
      "metadata": {
        "colab": {
          "base_uri": "https://localhost:8080/",
          "height": 669
        },
        "id": "ByU0bpNkqdX9",
        "outputId": "463d92ea-170b-464f-c44a-6bda27b38b0f"
      },
      "source": [
        "data.head(20)"
      ],
      "execution_count": null,
      "outputs": [
        {
          "output_type": "execute_result",
          "data": {
            "text/html": [
              "<div>\n",
              "<style scoped>\n",
              "    .dataframe tbody tr th:only-of-type {\n",
              "        vertical-align: middle;\n",
              "    }\n",
              "\n",
              "    .dataframe tbody tr th {\n",
              "        vertical-align: top;\n",
              "    }\n",
              "\n",
              "    .dataframe thead th {\n",
              "        text-align: right;\n",
              "    }\n",
              "</style>\n",
              "<table border=\"1\" class=\"dataframe\">\n",
              "  <thead>\n",
              "    <tr style=\"text-align: right;\">\n",
              "      <th></th>\n",
              "      <th>text</th>\n",
              "      <th>target</th>\n",
              "      <th>title</th>\n",
              "      <th>date</th>\n",
              "    </tr>\n",
              "  </thead>\n",
              "  <tbody>\n",
              "    <tr>\n",
              "      <th>0</th>\n",
              "      <td>I was wondering if anyone out there could enli...</td>\n",
              "      <td>7</td>\n",
              "      <td>rec.autos</td>\n",
              "      <td>2021-01-23 15:51:14.626323</td>\n",
              "    </tr>\n",
              "    <tr>\n",
              "      <th>17</th>\n",
              "      <td>I recently posted an article asking what kind ...</td>\n",
              "      <td>7</td>\n",
              "      <td>rec.autos</td>\n",
              "      <td>2021-01-23 15:51:14.626323</td>\n",
              "    </tr>\n",
              "    <tr>\n",
              "      <th>29</th>\n",
              "      <td>\\nIt depends on your priorities.  A lot of peo...</td>\n",
              "      <td>7</td>\n",
              "      <td>rec.autos</td>\n",
              "      <td>2021-01-23 15:51:14.626323</td>\n",
              "    </tr>\n",
              "    <tr>\n",
              "      <th>56</th>\n",
              "      <td>an excellent automatic can be found in the sub...</td>\n",
              "      <td>7</td>\n",
              "      <td>rec.autos</td>\n",
              "      <td>2021-01-23 15:51:14.626323</td>\n",
              "    </tr>\n",
              "    <tr>\n",
              "      <th>64</th>\n",
              "      <td>: Ford and his automobile.  I need information...</td>\n",
              "      <td>7</td>\n",
              "      <td>rec.autos</td>\n",
              "      <td>2021-01-23 15:51:14.626323</td>\n",
              "    </tr>\n",
              "    <tr>\n",
              "      <th>71</th>\n",
              "      <td>\\nYo! Watch the attributions--I didn't say tha...</td>\n",
              "      <td>7</td>\n",
              "      <td>rec.autos</td>\n",
              "      <td>2021-01-23 15:51:14.626323</td>\n",
              "    </tr>\n",
              "    <tr>\n",
              "      <th>73</th>\n",
              "      <td>\\nYou can avoid these problems entirely by ins...</td>\n",
              "      <td>7</td>\n",
              "      <td>rec.autos</td>\n",
              "      <td>2021-01-23 15:51:14.626323</td>\n",
              "    </tr>\n",
              "    <tr>\n",
              "      <th>77</th>\n",
              "      <td>I have a 1986 Acura Integra 5 speed with 95,00...</td>\n",
              "      <td>7</td>\n",
              "      <td>rec.autos</td>\n",
              "      <td>2021-01-23 15:51:14.626323</td>\n",
              "    </tr>\n",
              "    <tr>\n",
              "      <th>84</th>\n",
              "      <td>\\nassuming yours is a non turbo MR2, the gruff...</td>\n",
              "      <td>7</td>\n",
              "      <td>rec.autos</td>\n",
              "      <td>2021-01-23 15:51:14.626323</td>\n",
              "    </tr>\n",
              "    <tr>\n",
              "      <th>156</th>\n",
              "      <td>\\n\\nIn addition to restricted mileage, many cl...</td>\n",
              "      <td>7</td>\n",
              "      <td>rec.autos</td>\n",
              "      <td>2021-01-23 15:51:14.626323</td>\n",
              "    </tr>\n",
              "    <tr>\n",
              "      <th>201</th>\n",
              "      <td>\\n\\nSeveral years ago GM was having trouble wi...</td>\n",
              "      <td>7</td>\n",
              "      <td>rec.autos</td>\n",
              "      <td>2021-01-23 15:51:14.626323</td>\n",
              "    </tr>\n",
              "    <tr>\n",
              "      <th>207</th>\n",
              "      <td>\\nI had the same problem in my '90 MX-6. Lucki...</td>\n",
              "      <td>7</td>\n",
              "      <td>rec.autos</td>\n",
              "      <td>2021-01-23 15:51:14.626323</td>\n",
              "    </tr>\n",
              "    <tr>\n",
              "      <th>216</th>\n",
              "      <td>As an additional data point, I have run Castro...</td>\n",
              "      <td>7</td>\n",
              "      <td>rec.autos</td>\n",
              "      <td>2021-01-23 15:51:14.626323</td>\n",
              "    </tr>\n",
              "    <tr>\n",
              "      <th>262</th>\n",
              "      <td>\\nWomen's pants rarely have pockets and most, ...</td>\n",
              "      <td>7</td>\n",
              "      <td>rec.autos</td>\n",
              "      <td>2021-01-23 15:51:14.626323</td>\n",
              "    </tr>\n",
              "    <tr>\n",
              "      <th>274</th>\n",
              "      <td>\\n\\nI agree.  Six hour long stretches behind t...</td>\n",
              "      <td>7</td>\n",
              "      <td>rec.autos</td>\n",
              "      <td>2021-01-23 15:51:14.626323</td>\n",
              "    </tr>\n",
              "    <tr>\n",
              "      <th>405</th>\n",
              "      <td>From: thwang@mentor.cc.purdue.edu (Tommy Hwang...</td>\n",
              "      <td>7</td>\n",
              "      <td>rec.autos</td>\n",
              "      <td>2021-01-23 15:51:14.626323</td>\n",
              "    </tr>\n",
              "    <tr>\n",
              "      <th>415</th>\n",
              "      <td>^^^^^^^^^^^^^^^^^^^^^^^^^^^^^^^^^^...</td>\n",
              "      <td>7</td>\n",
              "      <td>rec.autos</td>\n",
              "      <td>2021-01-23 15:51:14.626323</td>\n",
              "    </tr>\n",
              "    <tr>\n",
              "      <th>445</th>\n",
              "      <td>\\n\\n\\n\\n\\n\\nBzzt.\\nThe manta was a two-door se...</td>\n",
              "      <td>7</td>\n",
              "      <td>rec.autos</td>\n",
              "      <td>2021-01-23 15:51:14.626323</td>\n",
              "    </tr>\n",
              "    <tr>\n",
              "      <th>462</th>\n",
              "      <td>sorry about that last post, my server neglecte...</td>\n",
              "      <td>7</td>\n",
              "      <td>rec.autos</td>\n",
              "      <td>2021-01-23 15:51:14.626323</td>\n",
              "    </tr>\n",
              "    <tr>\n",
              "      <th>463</th>\n",
              "      <td>From article &lt;1993Apr5.200048.23421@ucsu.Color...</td>\n",
              "      <td>7</td>\n",
              "      <td>rec.autos</td>\n",
              "      <td>2021-01-23 15:51:14.626323</td>\n",
              "    </tr>\n",
              "  </tbody>\n",
              "</table>\n",
              "</div>"
            ],
            "text/plain": [
              "                                                  text  ...                       date\n",
              "0    I was wondering if anyone out there could enli...  ... 2021-01-23 15:51:14.626323\n",
              "17   I recently posted an article asking what kind ...  ... 2021-01-23 15:51:14.626323\n",
              "29   \\nIt depends on your priorities.  A lot of peo...  ... 2021-01-23 15:51:14.626323\n",
              "56   an excellent automatic can be found in the sub...  ... 2021-01-23 15:51:14.626323\n",
              "64   : Ford and his automobile.  I need information...  ... 2021-01-23 15:51:14.626323\n",
              "71   \\nYo! Watch the attributions--I didn't say tha...  ... 2021-01-23 15:51:14.626323\n",
              "73   \\nYou can avoid these problems entirely by ins...  ... 2021-01-23 15:51:14.626323\n",
              "77   I have a 1986 Acura Integra 5 speed with 95,00...  ... 2021-01-23 15:51:14.626323\n",
              "84   \\nassuming yours is a non turbo MR2, the gruff...  ... 2021-01-23 15:51:14.626323\n",
              "156  \\n\\nIn addition to restricted mileage, many cl...  ... 2021-01-23 15:51:14.626323\n",
              "201  \\n\\nSeveral years ago GM was having trouble wi...  ... 2021-01-23 15:51:14.626323\n",
              "207  \\nI had the same problem in my '90 MX-6. Lucki...  ... 2021-01-23 15:51:14.626323\n",
              "216  As an additional data point, I have run Castro...  ... 2021-01-23 15:51:14.626323\n",
              "262  \\nWomen's pants rarely have pockets and most, ...  ... 2021-01-23 15:51:14.626323\n",
              "274  \\n\\nI agree.  Six hour long stretches behind t...  ... 2021-01-23 15:51:14.626323\n",
              "405  From: thwang@mentor.cc.purdue.edu (Tommy Hwang...  ... 2021-01-23 15:51:14.626323\n",
              "415              ^^^^^^^^^^^^^^^^^^^^^^^^^^^^^^^^^^...  ... 2021-01-23 15:51:14.626323\n",
              "445  \\n\\n\\n\\n\\n\\nBzzt.\\nThe manta was a two-door se...  ... 2021-01-23 15:51:14.626323\n",
              "462  sorry about that last post, my server neglecte...  ... 2021-01-23 15:51:14.626323\n",
              "463  From article <1993Apr5.200048.23421@ucsu.Color...  ... 2021-01-23 15:51:14.626323\n",
              "\n",
              "[20 rows x 4 columns]"
            ]
          },
          "metadata": {
            "tags": []
          },
          "execution_count": 40
        }
      ]
    },
    {
      "cell_type": "code",
      "metadata": {
        "id": "zp4iLCq_oieW"
      },
      "source": [
        "data_clean = [clean_data(text) for text in data.text]"
      ],
      "execution_count": null,
      "outputs": []
    },
    {
      "cell_type": "code",
      "metadata": {
        "id": "iKe-pSpRq9oU"
      },
      "source": [
        "from official.nlp.bert.tokenization import FullTokenizer\n",
        "from official.nlp import optimization\n",
        "\n",
        "FullTokenizer = FullTokenizer\n",
        "bert_layer = hub.KerasLayer(\"https://tfhub.dev/tensorflow/bert_en_uncased_L-12_H-768_A-12/1\",\n",
        "                            trainable=False)\n",
        "vocab_file = bert_layer.resolved_object.vocab_file.asset_path.numpy()\n",
        "do_lower_case = bert_layer.resolved_object.do_lower_case.numpy()\n",
        "tokenizer = FullTokenizer(vocab_file, do_lower_case)"
      ],
      "execution_count": null,
      "outputs": []
    },
    {
      "cell_type": "code",
      "metadata": {
        "id": "NJMP6Dqtrptn"
      },
      "source": [
        "def encode_sentence(sent):\n",
        "    return [\"[CLS]\"] + tokenizer.tokenize(sent) + [\"[SEP]\"]"
      ],
      "execution_count": null,
      "outputs": []
    },
    {
      "cell_type": "code",
      "metadata": {
        "id": "y1NGwPphsaA2"
      },
      "source": [
        "data_inputs = [encode_sentence(sentence) for sentence in data_clean]"
      ],
      "execution_count": null,
      "outputs": []
    },
    {
      "cell_type": "code",
      "metadata": {
        "id": "YP-0dwznscaR"
      },
      "source": [
        "def get_ids(tokens):\n",
        "    return tokenizer.convert_tokens_to_ids(tokens)\n",
        "    \n",
        "def get_mask(tokens):\n",
        "    return np.char.not_equal(tokens, \"[PAD]\").astype(int)\n",
        "\n",
        "def get_segments(tokens):\n",
        "    seg_ids = []\n",
        "    current_seg_id = 0\n",
        "    for tok in tokens:\n",
        "        seg_ids.append(current_seg_id)\n",
        "        if tok == \"[SEP]\":\n",
        "            current_seg_id = 1-current_seg_id # turns 1 into 0 and vice versa\n",
        "    return seg_ids"
      ],
      "execution_count": null,
      "outputs": []
    },
    {
      "cell_type": "code",
      "metadata": {
        "id": "6RPtFXRkuVk9"
      },
      "source": [
        "data_labels = data.target.values"
      ],
      "execution_count": null,
      "outputs": []
    },
    {
      "cell_type": "code",
      "metadata": {
        "id": "qpPQzeFOsfh3"
      },
      "source": [
        "data_with_len = [[sent, data_labels[i], len(sent)]\n",
        "                 for i, sent in enumerate(data_inputs)]\n",
        "random.shuffle(data_with_len)\n",
        "data_with_len.sort(key=lambda x: x[2])\n",
        "sorted_all = [([get_ids(sent_lab[0]),\n",
        "                get_mask(sent_lab[0]),\n",
        "                get_segments(sent_lab[0])],\n",
        "               sent_lab[1])\n",
        "              for sent_lab in data_with_len if sent_lab[2] > 7]"
      ],
      "execution_count": null,
      "outputs": []
    },
    {
      "cell_type": "code",
      "metadata": {
        "id": "6bzQQjw_ssI9"
      },
      "source": [
        "# A list is a type of iterator so it can be used as generator for a dataset\n",
        "all_dataset = tf.data.Dataset.from_generator(lambda: sorted_all,\n",
        "                                             output_types=(tf.int32, tf.int32))"
      ],
      "execution_count": null,
      "outputs": []
    },
    {
      "cell_type": "code",
      "metadata": {
        "id": "GqSkuEMVsvh5"
      },
      "source": [
        "BATCH_SIZE = 32\n",
        "all_batched = all_dataset.padded_batch(BATCH_SIZE,\n",
        "                                       padded_shapes=((3, None), ()),\n",
        "                                       padding_values=(0, 0))"
      ],
      "execution_count": null,
      "outputs": []
    },
    {
      "cell_type": "code",
      "metadata": {
        "id": "lUhMWg0jswD4"
      },
      "source": [
        "NB_BATCHES = len(sorted_all) // BATCH_SIZE\n",
        "NB_BATCHES_TEST = NB_BATCHES // 10\n",
        "NB_BATCHES_TRAIN = NB_BATCHES - NB_BATCHES_TEST\n",
        "all_batched.shuffle(NB_BATCHES)\n",
        "test_dataset = all_batched.take(NB_BATCHES_TEST)\n",
        "train_dataset = all_batched.skip(NB_BATCHES_TEST)"
      ],
      "execution_count": null,
      "outputs": []
    },
    {
      "cell_type": "code",
      "metadata": {
        "id": "7QvlDnj-swLU"
      },
      "source": [
        "class BERTClassifier(tf.keras.Model):\n",
        "\n",
        "    def __init__(self,\n",
        "                 nb_classes=20,\n",
        "                 dropout_rate=0.1,\n",
        "                 name=\"bert_classifier\"):\n",
        "        super(BERTClassifier, self).__init__(name=name)\n",
        "\n",
        "        self.dropout_rate = dropout_rate\n",
        "\n",
        "        self.bert_layer = hub.KerasLayer(\n",
        "            \"https://tfhub.dev/tensorflow/bert_en_uncased_L-12_H-768_A-12/1\",\n",
        "            trainable=True)\n",
        "        self.last_dense = layers.Dense(\n",
        "            units=nb_classes,\n",
        "            kernel_initializer=tf.keras.initializers.TruncatedNormal(stddev=0.02))\n",
        "    \n",
        "    def apply_bert(self, all_tokens):\n",
        "        pooled_output, _ = self.bert_layer([all_tokens[:, 0, :],\n",
        "                                            all_tokens[:, 1, :],\n",
        "                                            all_tokens[:, 2, :]])\n",
        "        \n",
        "        return pooled_output\n",
        "    \n",
        "    def call(self, inputs, training):\n",
        "        output = self.apply_bert(inputs)\n",
        "        output = tf.nn.dropout(output, rate=self.dropout_rate)\n",
        "\n",
        "        probs = self.last_dense(output)\n",
        "\n",
        "        return probs"
      ],
      "execution_count": null,
      "outputs": []
    },
    {
      "cell_type": "code",
      "metadata": {
        "id": "f5N7Voq-swS_"
      },
      "source": [
        "NB_CLASSES = 20\n",
        "\n",
        "DROPOUT_RATE = 0.1\n",
        "\n",
        "BATCH_SIZE = 32\n",
        "NB_EPOCHS = 4 #5\n",
        "INIT_LR = 5e-5\n",
        "WARMUP_STEPS = int(NB_BATCHES_TRAIN * 0.1)"
      ],
      "execution_count": null,
      "outputs": []
    },
    {
      "cell_type": "code",
      "metadata": {
        "id": "AuSBiST3s5H_"
      },
      "source": [
        "bert_classifier = BERTClassifier(NB_CLASSES, DROPOUT_RATE)"
      ],
      "execution_count": null,
      "outputs": []
    },
    {
      "cell_type": "code",
      "metadata": {
        "colab": {
          "base_uri": "https://localhost:8080/"
        },
        "id": "cfL6qm4nswZI",
        "outputId": "99520db3-5fb6-45be-cd3f-c66dde846368"
      },
      "source": [
        "NB_BATCHES_TRAIN"
      ],
      "execution_count": null,
      "outputs": [
        {
          "output_type": "execute_result",
          "data": {
            "text/plain": [
              "307"
            ]
          },
          "metadata": {
            "tags": []
          },
          "execution_count": 54
        }
      ]
    },
    {
      "cell_type": "code",
      "metadata": {
        "id": "7WDGLuREtBaz"
      },
      "source": [
        "train_dataset_light = train_dataset.take(500)\n",
        "steps_per_epoch_light = 100\n",
        "WARMUP_STEPS_LIGHT = int(500 * 0.1)"
      ],
      "execution_count": null,
      "outputs": []
    },
    {
      "cell_type": "code",
      "metadata": {
        "id": "_LrfGh7MtEJm"
      },
      "source": [
        "optimizer_light = optimization.create_optimizer(\n",
        "    init_lr=INIT_LR,\n",
        "    num_train_steps=500,\n",
        "    num_warmup_steps=WARMUP_STEPS_LIGHT)"
      ],
      "execution_count": null,
      "outputs": []
    },
    {
      "cell_type": "code",
      "metadata": {
        "id": "QHAvg2RXtHRx"
      },
      "source": [
        "# very close but slightly better than standard categorical crossentropy loss\n",
        "def classification_loss_fn(labels, logits):\n",
        "    labels = tf.squeeze(labels)\n",
        "    log_probs = tf.nn.log_softmax(logits, axis=-1)\n",
        "    one_hot_labels = tf.one_hot(\n",
        "        tf.cast(labels, dtype=tf.int32), depth=NB_CLASSES, dtype=tf.float32)\n",
        "    per_example_loss = -tf.reduce_sum(\n",
        "        tf.cast(one_hot_labels, dtype=tf.float32) * log_probs, axis=-1)\n",
        "    loss = tf.reduce_mean(per_example_loss)\n",
        "    return loss"
      ],
      "execution_count": null,
      "outputs": []
    },
    {
      "cell_type": "code",
      "metadata": {
        "id": "Y8uejb1HtJBL"
      },
      "source": [
        "bert_classifier.compile(optimizer_light,\n",
        "                        classification_loss_fn,\n",
        "                        [tf.keras.metrics.SparseCategoricalAccuracy()])"
      ],
      "execution_count": null,
      "outputs": []
    },
    {
      "cell_type": "code",
      "metadata": {
        "id": "inb59CvTtK7d"
      },
      "source": [
        "checkpoint_path = \"/content/drive/MyDrive/Hackathon/ckpt_bert_class\"\n",
        "\n",
        "ckpt = tf.train.Checkpoint(bert_classifier=bert_classifier)\n",
        "\n",
        "\n",
        "ckpt_manager = tf.train.CheckpointManager(ckpt, checkpoint_path, max_to_keep=1)\n",
        "\n",
        "if ckpt_manager.latest_checkpoint:\n",
        "    ckpt.restore(ckpt_manager.latest_checkpoint)\n",
        "    print(\"Latest checkpoint restored!!\")"
      ],
      "execution_count": null,
      "outputs": []
    },
    {
      "cell_type": "code",
      "metadata": {
        "id": "NbEwhcSHtMpb"
      },
      "source": [
        "class MyCustomCallback(tf.keras.callbacks.Callback):\n",
        "\n",
        "    def on_epoch_end(self, epoch, logs=None):\n",
        "        ckpt_manager.save()\n",
        "        print(\"Checkpoint saved at {}.\".format(checkpoint_path))"
      ],
      "execution_count": null,
      "outputs": []
    },
    {
      "cell_type": "code",
      "metadata": {
        "id": "LHoJ8ps_tOlc",
        "colab": {
          "base_uri": "https://localhost:8080/"
        },
        "outputId": "92f10eb5-9678-4168-ef0e-16f226e556e8"
      },
      "source": [
        "bert_classifier.fit(train_dataset_light,\n",
        "                    steps_per_epoch=50,\n",
        "                    epochs=NB_EPOCHS,\n",
        "                    callbacks=[MyCustomCallback()])\n",
        "#steps_per_epoch=100"
      ],
      "execution_count": null,
      "outputs": [
        {
          "output_type": "stream",
          "text": [
            "Epoch 1/4\n",
            "50/50 [==============================] - 16s 322ms/step - loss: 0.7258 - sparse_categorical_accuracy: 0.7919\n",
            "Checkpoint saved at /content/drive/MyDrive/Hackathon/ckpt_bert_class.\n",
            "Epoch 2/4\n",
            "50/50 [==============================] - 24s 485ms/step - loss: 0.4718 - sparse_categorical_accuracy: 0.8769\n",
            "Checkpoint saved at /content/drive/MyDrive/Hackathon/ckpt_bert_class.\n",
            "Epoch 3/4\n",
            "50/50 [==============================] - 34s 679ms/step - loss: 0.3604 - sparse_categorical_accuracy: 0.9212\n",
            "Checkpoint saved at /content/drive/MyDrive/Hackathon/ckpt_bert_class.\n",
            "Epoch 4/4\n",
            "50/50 [==============================] - 48s 969ms/step - loss: 0.3497 - sparse_categorical_accuracy: 0.9356\n",
            "Checkpoint saved at /content/drive/MyDrive/Hackathon/ckpt_bert_class.\n"
          ],
          "name": "stdout"
        },
        {
          "output_type": "execute_result",
          "data": {
            "text/plain": [
              "<tensorflow.python.keras.callbacks.History at 0x7fd5c2c4a780>"
            ]
          },
          "metadata": {
            "tags": []
          },
          "execution_count": 65
        }
      ]
    },
    {
      "cell_type": "code",
      "metadata": {
        "id": "oUAY1N3XujSd",
        "colab": {
          "base_uri": "https://localhost:8080/"
        },
        "outputId": "d2476a73-0d1a-46ee-f1f6-d01047d4d316"
      },
      "source": [
        "classifier = bert_classifier.evaluate(test_dataset)\n",
        "classifier"
      ],
      "execution_count": null,
      "outputs": [
        {
          "output_type": "stream",
          "text": [
            "34/34 [==============================] - 2s 55ms/step - loss: 1.7639 - sparse_categorical_accuracy: 0.4825\n"
          ],
          "name": "stdout"
        },
        {
          "output_type": "execute_result",
          "data": {
            "text/plain": [
              "[1.763906478881836, 0.48253676295280457]"
            ]
          },
          "metadata": {
            "tags": []
          },
          "execution_count": 66
        }
      ]
    }
  ]
}